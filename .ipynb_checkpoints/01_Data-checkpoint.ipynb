{
 "cells": [
  {
   "cell_type": "code",
   "execution_count": 1,
   "id": "7bc550b2",
   "metadata": {},
   "outputs": [],
   "source": [
    "import os\n",
    "import zipfile\n",
    "import requests \n",
    "\n",
    "import pandas as pd\n",
    "import yahoofinancials as yf\n",
    "\n",
    "from fredapi import Fred\n",
    "from datetime import datetime"
   ]
  },
  {
   "cell_type": "code",
   "execution_count": 2,
   "id": "c0f05739",
   "metadata": {},
   "outputs": [],
   "source": [
    "FredAPI = 'secret'"
   ]
  },
  {
   "cell_type": "code",
   "execution_count": 3,
   "id": "4ef77f48",
   "metadata": {},
   "outputs": [],
   "source": [
    "def get_fred_data(tickers):\n",
    "    fred = Fred(api_key=FredAPI)\n",
    "    df = pd.DataFrame()\n",
    "\n",
    "    tickerslist = tickers.keys() if isinstance(tickers,dict) else tickers\n",
    "\n",
    "    for tick in tickerslist :\n",
    "        temp = fred.get_series(tick)\n",
    "        temp.name = tickers[tick] if isinstance(tickers,dict) else tick\n",
    "        df=df.merge(temp,how='outer',left_index=True, right_index=True)\n",
    "    return df\n",
    "\n",
    "def get_hist_price_data(symbol, start_date, end_date, time_interval):\n",
    "    obj = yf.YahooFinancials(symbol)\n",
    "    data = obj.get_historical_price_data(start_date=start_date, end_date=end_date, time_interval=time_interval)\n",
    "    data = pd.DataFrame.from_dict(data[symbol]['prices'])\n",
    "    data = data.set_index('formatted_date')\n",
    "    \n",
    "    return data\n",
    "\n",
    "def download_url(url, save_path, chunk_size=128):\n",
    "    r = requests.get(url, stream=True)\n",
    "    with open(save_path, 'wb') as fd:\n",
    "        for chunk in r.iter_content(chunk_size=chunk_size):\n",
    "            fd.write(chunk)"
   ]
  },
  {
   "cell_type": "code",
   "execution_count": 4,
   "id": "fa05f517",
   "metadata": {},
   "outputs": [],
   "source": [
    "tickers =  {'DGS1':'1-Year Treasury Constant Maturity Rate',\n",
    "            'DGS5':'5-Year Treasury Constant Maturity Rate',\n",
    "            'DGS10':'10-Year Treasury Constant Maturity Rate',\n",
    "            'DGS20':'20-Year Treasury Constant Maturity Rate',\n",
    "            'DTWEXM':'Trade Weighted U.S. Dollar Index: Major Currencies, Goods (DISCONTINUED)',\n",
    "            'DTWEXAFEGS': 'Trade Weighted U.S. Dollar Index: Advanced Foreign Economies, Goods and Services',\n",
    "            'VIXCLS':'CBOE Volatility Index: VIX',\n",
    "            'UMCSENT':'University of Michigan: Consumer Sentiment',\n",
    "            'STLFSI2':'St. Louis Fed Financial Stress Index',\n",
    "            'UNRATE':'Unemployment Rate',\n",
    "            'ICSA':'Initial Claims',\n",
    "            'CPIAUCSL':'Consumer Price Index for All Urban Consumers: All Items in U.S. City Average',\n",
    "            'MICH':'University of Michigan: Inflation Expectation'}"
   ]
  },
  {
   "cell_type": "markdown",
   "id": "deb8d951",
   "metadata": {},
   "source": [
    "<h1>Exploring the Data</h1>"
   ]
  },
  {
   "cell_type": "markdown",
   "id": "87b1470b",
   "metadata": {},
   "source": [
    "1-Year Treasury Constant Maturity Rate (DGS1) <br>\n",
    "Units:  Percent, Not Seasonally Adjusted <br>\n",
    "Frequency:  Daily"
   ]
  },
  {
   "cell_type": "code",
   "execution_count": 5,
   "id": "3d9a6ee6",
   "metadata": {},
   "outputs": [
    {
     "data": {
      "text/plain": [
       "<AxesSubplot:>"
      ]
     },
     "execution_count": 5,
     "metadata": {},
     "output_type": "execute_result"
    },
    {
     "data": {
      "image/png": "[encoded data removed]",
      "text/plain": [
       "<Figure size 432x288 with 1 Axes>"
      ]
     },
     "metadata": {
      "needs_background": "light"
     },
     "output_type": "display_data"
    }
   ],
   "source": [
    "ts = get_fred_data(['DGS1'])\n",
    "ts.plot()"
   ]
  },
  {
   "cell_type": "code",
   "execution_count": 6,
   "id": "079c5351",
   "metadata": {},
   "outputs": [
    {
     "data": {
      "text/html": [
       "<div>\n",
       "<style scoped>\n",
       "    .dataframe tbody tr th:only-of-type {\n",
       "        vertical-align: middle;\n",
       "    }\n",
       "\n",
       "    .dataframe tbody tr th {\n",
       "        vertical-align: top;\n",
       "    }\n",
       "\n",
       "    .dataframe thead th {\n",
       "        text-align: right;\n",
       "    }\n",
       "</style>\n",
       "<table border=\"1\" class=\"dataframe\">\n",
       "  <thead>\n",
       "    <tr style=\"text-align: right;\">\n",
       "      <th></th>\n",
       "      <th>DGS1</th>\n",
       "    </tr>\n",
       "  </thead>\n",
       "  <tbody>\n",
       "    <tr>\n",
       "      <th>1962-01-02</th>\n",
       "      <td>3.22</td>\n",
       "    </tr>\n",
       "    <tr>\n",
       "      <th>1962-01-03</th>\n",
       "      <td>3.24</td>\n",
       "    </tr>\n",
       "    <tr>\n",
       "      <th>1962-01-04</th>\n",
       "      <td>3.24</td>\n",
       "    </tr>\n",
       "    <tr>\n",
       "      <th>1962-01-05</th>\n",
       "      <td>3.26</td>\n",
       "    </tr>\n",
       "    <tr>\n",
       "      <th>1962-01-08</th>\n",
       "      <td>3.31</td>\n",
       "    </tr>\n",
       "    <tr>\n",
       "      <th>...</th>\n",
       "      <td>...</td>\n",
       "    </tr>\n",
       "    <tr>\n",
       "      <th>2021-06-16</th>\n",
       "      <td>0.08</td>\n",
       "    </tr>\n",
       "    <tr>\n",
       "      <th>2021-06-17</th>\n",
       "      <td>0.08</td>\n",
       "    </tr>\n",
       "    <tr>\n",
       "      <th>2021-06-18</th>\n",
       "      <td>0.09</td>\n",
       "    </tr>\n",
       "    <tr>\n",
       "      <th>2021-06-21</th>\n",
       "      <td>0.09</td>\n",
       "    </tr>\n",
       "    <tr>\n",
       "      <th>2021-06-22</th>\n",
       "      <td>0.09</td>\n",
       "    </tr>\n",
       "  </tbody>\n",
       "</table>\n",
       "<p>15516 rows × 1 columns</p>\n",
       "</div>"
      ],
      "text/plain": [
       "            DGS1\n",
       "1962-01-02  3.22\n",
       "1962-01-03  3.24\n",
       "1962-01-04  3.24\n",
       "1962-01-05  3.26\n",
       "1962-01-08  3.31\n",
       "...          ...\n",
       "2021-06-16  0.08\n",
       "2021-06-17  0.08\n",
       "2021-06-18  0.09\n",
       "2021-06-21  0.09\n",
       "2021-06-22  0.09\n",
       "\n",
       "[15516 rows x 1 columns]"
      ]
     },
     "execution_count": 6,
     "metadata": {},
     "output_type": "execute_result"
    }
   ],
   "source": [
    "ts"
   ]
  },
  {
   "cell_type": "code",
   "execution_count": 7,
   "id": "9144f8c3",
   "metadata": {},
   "outputs": [],
   "source": [
    "del ts"
   ]
  },
  {
   "cell_type": "markdown",
   "id": "4702883d",
   "metadata": {},
   "source": [
    "5-Year Treasury Constant Maturity Rate (DGS5) <br>\n",
    "Units:  Percent, Not Seasonally Adjusted <br>\n",
    "Frequency:  Daily"
   ]
  },
  {
   "cell_type": "code",
   "execution_count": 8,
   "id": "1fe44b78",
   "metadata": {},
   "outputs": [
    {
     "data": {
      "text/plain": [
       "<AxesSubplot:>"
      ]
     },
     "execution_count": 8,
     "metadata": {},
     "output_type": "execute_result"
    },
    {
     "data": {
      "image/png": "[encoded data removed]",
      "text/plain": [
       "<Figure size 432x288 with 1 Axes>"
      ]
     },
     "metadata": {
      "needs_background": "light"
     },
     "output_type": "display_data"
    }
   ],
   "source": [
    "ts = get_fred_data(['DGS5'])\n",
    "ts.plot()"
   ]
  },
  {
   "cell_type": "code",
   "execution_count": 9,
   "id": "4ee38dc3",
   "metadata": {},
   "outputs": [
    {
     "data": {
      "text/html": [
       "<div>\n",
       "<style scoped>\n",
       "    .dataframe tbody tr th:only-of-type {\n",
       "        vertical-align: middle;\n",
       "    }\n",
       "\n",
       "    .dataframe tbody tr th {\n",
       "        vertical-align: top;\n",
       "    }\n",
       "\n",
       "    .dataframe thead th {\n",
       "        text-align: right;\n",
       "    }\n",
       "</style>\n",
       "<table border=\"1\" class=\"dataframe\">\n",
       "  <thead>\n",
       "    <tr style=\"text-align: right;\">\n",
       "      <th></th>\n",
       "      <th>DGS5</th>\n",
       "    </tr>\n",
       "  </thead>\n",
       "  <tbody>\n",
       "    <tr>\n",
       "      <th>1962-01-02</th>\n",
       "      <td>3.88</td>\n",
       "    </tr>\n",
       "    <tr>\n",
       "      <th>1962-01-03</th>\n",
       "      <td>3.87</td>\n",
       "    </tr>\n",
       "    <tr>\n",
       "      <th>1962-01-04</th>\n",
       "      <td>3.86</td>\n",
       "    </tr>\n",
       "    <tr>\n",
       "      <th>1962-01-05</th>\n",
       "      <td>3.89</td>\n",
       "    </tr>\n",
       "    <tr>\n",
       "      <th>1962-01-08</th>\n",
       "      <td>3.91</td>\n",
       "    </tr>\n",
       "    <tr>\n",
       "      <th>...</th>\n",
       "      <td>...</td>\n",
       "    </tr>\n",
       "    <tr>\n",
       "      <th>2021-06-16</th>\n",
       "      <td>0.89</td>\n",
       "    </tr>\n",
       "    <tr>\n",
       "      <th>2021-06-17</th>\n",
       "      <td>0.90</td>\n",
       "    </tr>\n",
       "    <tr>\n",
       "      <th>2021-06-18</th>\n",
       "      <td>0.89</td>\n",
       "    </tr>\n",
       "    <tr>\n",
       "      <th>2021-06-21</th>\n",
       "      <td>0.90</td>\n",
       "    </tr>\n",
       "    <tr>\n",
       "      <th>2021-06-22</th>\n",
       "      <td>0.87</td>\n",
       "    </tr>\n",
       "  </tbody>\n",
       "</table>\n",
       "<p>15516 rows × 1 columns</p>\n",
       "</div>"
      ],
      "text/plain": [
       "            DGS5\n",
       "1962-01-02  3.88\n",
       "1962-01-03  3.87\n",
       "1962-01-04  3.86\n",
       "1962-01-05  3.89\n",
       "1962-01-08  3.91\n",
       "...          ...\n",
       "2021-06-16  0.89\n",
       "2021-06-17  0.90\n",
       "2021-06-18  0.89\n",
       "2021-06-21  0.90\n",
       "2021-06-22  0.87\n",
       "\n",
       "[15516 rows x 1 columns]"
      ]
     },
     "execution_count": 9,
     "metadata": {},
     "output_type": "execute_result"
    }
   ],
   "source": [
    "ts"
   ]
  },
  {
   "cell_type": "code",
   "execution_count": 10,
   "id": "fd4fd7b7",
   "metadata": {},
   "outputs": [],
   "source": [
    "del ts"
   ]
  },
  {
   "cell_type": "markdown",
   "id": "0af96af4",
   "metadata": {},
   "source": [
    "10-Year Treasury Constant Maturity Rate (DGS10) <br>\n",
    "Units:  Percent, Not Seasonally Adjusted <br>\n",
    "Frequency:  Daily"
   ]
  },
  {
   "cell_type": "code",
   "execution_count": 11,
   "id": "2a10ee5d",
   "metadata": {},
   "outputs": [
    {
     "data": {
      "text/plain": [
       "<AxesSubplot:>"
      ]
     },
     "execution_count": 11,
     "metadata": {},
     "output_type": "execute_result"
    },
    {
     "data": {
      "image/png": "[encoded data removed]",
      "text/plain": [
       "<Figure size 432x288 with 1 Axes>"
      ]
     },
     "metadata": {
      "needs_background": "light"
     },
     "output_type": "display_data"
    }
   ],
   "source": [
    "ts = get_fred_data(['DGS10'])\n",
    "ts.plot()"
   ]
  },
  {
   "cell_type": "code",
   "execution_count": 12,
   "id": "66d5d115",
   "metadata": {},
   "outputs": [
    {
     "data": {
      "text/html": [
       "<div>\n",
       "<style scoped>\n",
       "    .dataframe tbody tr th:only-of-type {\n",
       "        vertical-align: middle;\n",
       "    }\n",
       "\n",
       "    .dataframe tbody tr th {\n",
       "        vertical-align: top;\n",
       "    }\n",
       "\n",
       "    .dataframe thead th {\n",
       "        text-align: right;\n",
       "    }\n",
       "</style>\n",
       "<table border=\"1\" class=\"dataframe\">\n",
       "  <thead>\n",
       "    <tr style=\"text-align: right;\">\n",
       "      <th></th>\n",
       "      <th>DGS10</th>\n",
       "    </tr>\n",
       "  </thead>\n",
       "  <tbody>\n",
       "    <tr>\n",
       "      <th>1962-01-02</th>\n",
       "      <td>4.06</td>\n",
       "    </tr>\n",
       "    <tr>\n",
       "      <th>1962-01-03</th>\n",
       "      <td>4.03</td>\n",
       "    </tr>\n",
       "    <tr>\n",
       "      <th>1962-01-04</th>\n",
       "      <td>3.99</td>\n",
       "    </tr>\n",
       "    <tr>\n",
       "      <th>1962-01-05</th>\n",
       "      <td>4.02</td>\n",
       "    </tr>\n",
       "    <tr>\n",
       "      <th>1962-01-08</th>\n",
       "      <td>4.03</td>\n",
       "    </tr>\n",
       "    <tr>\n",
       "      <th>...</th>\n",
       "      <td>...</td>\n",
       "    </tr>\n",
       "    <tr>\n",
       "      <th>2021-06-16</th>\n",
       "      <td>1.57</td>\n",
       "    </tr>\n",
       "    <tr>\n",
       "      <th>2021-06-17</th>\n",
       "      <td>1.52</td>\n",
       "    </tr>\n",
       "    <tr>\n",
       "      <th>2021-06-18</th>\n",
       "      <td>1.45</td>\n",
       "    </tr>\n",
       "    <tr>\n",
       "      <th>2021-06-21</th>\n",
       "      <td>1.50</td>\n",
       "    </tr>\n",
       "    <tr>\n",
       "      <th>2021-06-22</th>\n",
       "      <td>1.48</td>\n",
       "    </tr>\n",
       "  </tbody>\n",
       "</table>\n",
       "<p>15516 rows × 1 columns</p>\n",
       "</div>"
      ],
      "text/plain": [
       "            DGS10\n",
       "1962-01-02   4.06\n",
       "1962-01-03   4.03\n",
       "1962-01-04   3.99\n",
       "1962-01-05   4.02\n",
       "1962-01-08   4.03\n",
       "...           ...\n",
       "2021-06-16   1.57\n",
       "2021-06-17   1.52\n",
       "2021-06-18   1.45\n",
       "2021-06-21   1.50\n",
       "2021-06-22   1.48\n",
       "\n",
       "[15516 rows x 1 columns]"
      ]
     },
     "execution_count": 12,
     "metadata": {},
     "output_type": "execute_result"
    }
   ],
   "source": [
    "ts"
   ]
  },
  {
   "cell_type": "code",
   "execution_count": 13,
   "id": "9f66983c",
   "metadata": {},
   "outputs": [],
   "source": [
    "del ts"
   ]
  },
  {
   "cell_type": "markdown",
   "id": "c343b4b0",
   "metadata": {},
   "source": [
    "20-Year Treasury Constant Maturity Rate (DGS20) <br>\n",
    "Units:  Percent, Not Seasonally Adjusted <br>\n",
    "Frequency:  Daily"
   ]
  },
  {
   "cell_type": "code",
   "execution_count": 14,
   "id": "ccd7fc20",
   "metadata": {},
   "outputs": [
    {
     "data": {
      "text/plain": [
       "<AxesSubplot:>"
      ]
     },
     "execution_count": 14,
     "metadata": {},
     "output_type": "execute_result"
    },
    {
     "data": {
      "image/png": "[encoded data removed]",
      "text/plain": [
       "<Figure size 432x288 with 1 Axes>"
      ]
     },
     "metadata": {
      "needs_background": "light"
     },
     "output_type": "display_data"
    }
   ],
   "source": [
    "ts = get_fred_data(['DGS20'])\n",
    "ts.plot()"
   ]
  },
  {
   "cell_type": "code",
   "execution_count": 15,
   "id": "e80b0c72",
   "metadata": {},
   "outputs": [
    {
     "data": {
      "text/html": [
       "<div>\n",
       "<style scoped>\n",
       "    .dataframe tbody tr th:only-of-type {\n",
       "        vertical-align: middle;\n",
       "    }\n",
       "\n",
       "    .dataframe tbody tr th {\n",
       "        vertical-align: top;\n",
       "    }\n",
       "\n",
       "    .dataframe thead th {\n",
       "        text-align: right;\n",
       "    }\n",
       "</style>\n",
       "<table border=\"1\" class=\"dataframe\">\n",
       "  <thead>\n",
       "    <tr style=\"text-align: right;\">\n",
       "      <th></th>\n",
       "      <th>DGS20</th>\n",
       "    </tr>\n",
       "  </thead>\n",
       "  <tbody>\n",
       "    <tr>\n",
       "      <th>1962-01-02</th>\n",
       "      <td>4.07</td>\n",
       "    </tr>\n",
       "    <tr>\n",
       "      <th>1962-01-03</th>\n",
       "      <td>4.07</td>\n",
       "    </tr>\n",
       "    <tr>\n",
       "      <th>1962-01-04</th>\n",
       "      <td>4.06</td>\n",
       "    </tr>\n",
       "    <tr>\n",
       "      <th>1962-01-05</th>\n",
       "      <td>4.07</td>\n",
       "    </tr>\n",
       "    <tr>\n",
       "      <th>1962-01-08</th>\n",
       "      <td>4.08</td>\n",
       "    </tr>\n",
       "    <tr>\n",
       "      <th>...</th>\n",
       "      <td>...</td>\n",
       "    </tr>\n",
       "    <tr>\n",
       "      <th>2021-06-16</th>\n",
       "      <td>2.13</td>\n",
       "    </tr>\n",
       "    <tr>\n",
       "      <th>2021-06-17</th>\n",
       "      <td>2.05</td>\n",
       "    </tr>\n",
       "    <tr>\n",
       "      <th>2021-06-18</th>\n",
       "      <td>1.97</td>\n",
       "    </tr>\n",
       "    <tr>\n",
       "      <th>2021-06-21</th>\n",
       "      <td>2.05</td>\n",
       "    </tr>\n",
       "    <tr>\n",
       "      <th>2021-06-22</th>\n",
       "      <td>2.03</td>\n",
       "    </tr>\n",
       "  </tbody>\n",
       "</table>\n",
       "<p>15516 rows × 1 columns</p>\n",
       "</div>"
      ],
      "text/plain": [
       "            DGS20\n",
       "1962-01-02   4.07\n",
       "1962-01-03   4.07\n",
       "1962-01-04   4.06\n",
       "1962-01-05   4.07\n",
       "1962-01-08   4.08\n",
       "...           ...\n",
       "2021-06-16   2.13\n",
       "2021-06-17   2.05\n",
       "2021-06-18   1.97\n",
       "2021-06-21   2.05\n",
       "2021-06-22   2.03\n",
       "\n",
       "[15516 rows x 1 columns]"
      ]
     },
     "execution_count": 15,
     "metadata": {},
     "output_type": "execute_result"
    }
   ],
   "source": [
    "ts"
   ]
  },
  {
   "cell_type": "code",
   "execution_count": 16,
   "id": "a954a09d",
   "metadata": {},
   "outputs": [],
   "source": [
    "del ts"
   ]
  },
  {
   "cell_type": "markdown",
   "id": "d82d4997",
   "metadata": {},
   "source": [
    "SP500 Index  \n",
    "https://finance.yahoo.com/quote/%5EGSPC?p=%5EGSPCv"
   ]
  },
  {
   "cell_type": "code",
   "execution_count": 17,
   "id": "4cbc34c9",
   "metadata": {},
   "outputs": [
    {
     "data": {
      "text/plain": [
       "<AxesSubplot:xlabel='formatted_date'>"
      ]
     },
     "execution_count": 17,
     "metadata": {},
     "output_type": "execute_result"
    },
    {
     "data": {
      "image/png": "[encoded data removed]",
      "text/plain": [
       "<Figure size 432x288 with 1 Axes>"
      ]
     },
     "metadata": {
      "needs_background": "light"
     },
     "output_type": "display_data"
    }
   ],
   "source": [
    "sp500_data = get_hist_price_data('^GSPC', '1900-12-31', datetime.today().strftime('%Y-%m-%d'), 'daily')\n",
    "sp500_data['adjclose'].plot()"
   ]
  },
  {
   "cell_type": "code",
   "execution_count": 18,
   "id": "01fd22e8",
   "metadata": {},
   "outputs": [
    {
     "data": {
      "text/html": [
       "<div>\n",
       "<style scoped>\n",
       "    .dataframe tbody tr th:only-of-type {\n",
       "        vertical-align: middle;\n",
       "    }\n",
       "\n",
       "    .dataframe tbody tr th {\n",
       "        vertical-align: top;\n",
       "    }\n",
       "\n",
       "    .dataframe thead th {\n",
       "        text-align: right;\n",
       "    }\n",
       "</style>\n",
       "<table border=\"1\" class=\"dataframe\">\n",
       "  <thead>\n",
       "    <tr style=\"text-align: right;\">\n",
       "      <th></th>\n",
       "      <th>date</th>\n",
       "      <th>high</th>\n",
       "      <th>low</th>\n",
       "      <th>open</th>\n",
       "      <th>close</th>\n",
       "      <th>volume</th>\n",
       "      <th>adjclose</th>\n",
       "    </tr>\n",
       "    <tr>\n",
       "      <th>formatted_date</th>\n",
       "      <th></th>\n",
       "      <th></th>\n",
       "      <th></th>\n",
       "      <th></th>\n",
       "      <th></th>\n",
       "      <th></th>\n",
       "      <th></th>\n",
       "    </tr>\n",
       "  </thead>\n",
       "  <tbody>\n",
       "    <tr>\n",
       "      <th>1927-12-30</th>\n",
       "      <td>-1325583000</td>\n",
       "      <td>17.660000</td>\n",
       "      <td>17.660000</td>\n",
       "      <td>17.660000</td>\n",
       "      <td>17.660000</td>\n",
       "      <td>0</td>\n",
       "      <td>17.660000</td>\n",
       "    </tr>\n",
       "    <tr>\n",
       "      <th>1928-01-03</th>\n",
       "      <td>-1325237400</td>\n",
       "      <td>17.760000</td>\n",
       "      <td>17.760000</td>\n",
       "      <td>17.760000</td>\n",
       "      <td>17.760000</td>\n",
       "      <td>0</td>\n",
       "      <td>17.760000</td>\n",
       "    </tr>\n",
       "    <tr>\n",
       "      <th>1928-01-04</th>\n",
       "      <td>-1325151000</td>\n",
       "      <td>17.719999</td>\n",
       "      <td>17.719999</td>\n",
       "      <td>17.719999</td>\n",
       "      <td>17.719999</td>\n",
       "      <td>0</td>\n",
       "      <td>17.719999</td>\n",
       "    </tr>\n",
       "    <tr>\n",
       "      <th>1928-01-05</th>\n",
       "      <td>-1325064600</td>\n",
       "      <td>17.549999</td>\n",
       "      <td>17.549999</td>\n",
       "      <td>17.549999</td>\n",
       "      <td>17.549999</td>\n",
       "      <td>0</td>\n",
       "      <td>17.549999</td>\n",
       "    </tr>\n",
       "    <tr>\n",
       "      <th>1928-01-06</th>\n",
       "      <td>-1324978200</td>\n",
       "      <td>17.660000</td>\n",
       "      <td>17.660000</td>\n",
       "      <td>17.660000</td>\n",
       "      <td>17.660000</td>\n",
       "      <td>0</td>\n",
       "      <td>17.660000</td>\n",
       "    </tr>\n",
       "    <tr>\n",
       "      <th>...</th>\n",
       "      <td>...</td>\n",
       "      <td>...</td>\n",
       "      <td>...</td>\n",
       "      <td>...</td>\n",
       "      <td>...</td>\n",
       "      <td>...</td>\n",
       "      <td>...</td>\n",
       "    </tr>\n",
       "    <tr>\n",
       "      <th>2021-06-16</th>\n",
       "      <td>1623850200</td>\n",
       "      <td>4251.890137</td>\n",
       "      <td>4202.450195</td>\n",
       "      <td>4248.870117</td>\n",
       "      <td>4223.700195</td>\n",
       "      <td>3722050000</td>\n",
       "      <td>4223.700195</td>\n",
       "    </tr>\n",
       "    <tr>\n",
       "      <th>2021-06-17</th>\n",
       "      <td>1623936600</td>\n",
       "      <td>4232.290039</td>\n",
       "      <td>4196.049805</td>\n",
       "      <td>4220.370117</td>\n",
       "      <td>4221.859863</td>\n",
       "      <td>3952110000</td>\n",
       "      <td>4221.859863</td>\n",
       "    </tr>\n",
       "    <tr>\n",
       "      <th>2021-06-18</th>\n",
       "      <td>1624023000</td>\n",
       "      <td>4204.779785</td>\n",
       "      <td>4164.399902</td>\n",
       "      <td>4204.779785</td>\n",
       "      <td>4166.450195</td>\n",
       "      <td>6084980000</td>\n",
       "      <td>4166.450195</td>\n",
       "    </tr>\n",
       "    <tr>\n",
       "      <th>2021-06-21</th>\n",
       "      <td>1624282200</td>\n",
       "      <td>4226.240234</td>\n",
       "      <td>4173.399902</td>\n",
       "      <td>4173.399902</td>\n",
       "      <td>4224.790039</td>\n",
       "      <td>3391740000</td>\n",
       "      <td>4224.790039</td>\n",
       "    </tr>\n",
       "    <tr>\n",
       "      <th>2021-06-22</th>\n",
       "      <td>1624368600</td>\n",
       "      <td>4255.839844</td>\n",
       "      <td>4217.270020</td>\n",
       "      <td>4224.609863</td>\n",
       "      <td>4246.439941</td>\n",
       "      <td>3208760000</td>\n",
       "      <td>4246.439941</td>\n",
       "    </tr>\n",
       "  </tbody>\n",
       "</table>\n",
       "<p>23480 rows × 7 columns</p>\n",
       "</div>"
      ],
      "text/plain": [
       "                      date         high          low         open  \\\n",
       "formatted_date                                                      \n",
       "1927-12-30     -1325583000    17.660000    17.660000    17.660000   \n",
       "1928-01-03     -1325237400    17.760000    17.760000    17.760000   \n",
       "1928-01-04     -1325151000    17.719999    17.719999    17.719999   \n",
       "1928-01-05     -1325064600    17.549999    17.549999    17.549999   \n",
       "1928-01-06     -1324978200    17.660000    17.660000    17.660000   \n",
       "...                    ...          ...          ...          ...   \n",
       "2021-06-16      1623850200  4251.890137  4202.450195  4248.870117   \n",
       "2021-06-17      1623936600  4232.290039  4196.049805  4220.370117   \n",
       "2021-06-18      1624023000  4204.779785  4164.399902  4204.779785   \n",
       "2021-06-21      1624282200  4226.240234  4173.399902  4173.399902   \n",
       "2021-06-22      1624368600  4255.839844  4217.270020  4224.609863   \n",
       "\n",
       "                      close      volume     adjclose  \n",
       "formatted_date                                        \n",
       "1927-12-30        17.660000           0    17.660000  \n",
       "1928-01-03        17.760000           0    17.760000  \n",
       "1928-01-04        17.719999           0    17.719999  \n",
       "1928-01-05        17.549999           0    17.549999  \n",
       "1928-01-06        17.660000           0    17.660000  \n",
       "...                     ...         ...          ...  \n",
       "2021-06-16      4223.700195  3722050000  4223.700195  \n",
       "2021-06-17      4221.859863  3952110000  4221.859863  \n",
       "2021-06-18      4166.450195  6084980000  4166.450195  \n",
       "2021-06-21      4224.790039  3391740000  4224.790039  \n",
       "2021-06-22      4246.439941  3208760000  4246.439941  \n",
       "\n",
       "[23480 rows x 7 columns]"
      ]
     },
     "execution_count": 18,
     "metadata": {},
     "output_type": "execute_result"
    }
   ],
   "source": [
    "sp500_data"
   ]
  },
  {
   "cell_type": "code",
   "execution_count": 19,
   "id": "e33fe60c",
   "metadata": {},
   "outputs": [],
   "source": [
    "del sp500_data"
   ]
  },
  {
   "cell_type": "markdown",
   "id": "26841b7b",
   "metadata": {},
   "source": [
    "Trade Weighted U.S. Dollar Index: Major Currencies, Goods (DISCONTINUED) (DTWEXM) <br>\n",
    "Units:  Index Mar 1973=100, Not Seasonally Adjusted <br>\n",
    "Frequency:  Daily <br>\n",
    "A weighted average of the foreign exchange value of the U.S. dollar against a subset of the broad index currencies that circulate widely outside the country of issue.Major currencies index includes the Euro Area, Canada, Japan, United Kingdom, Switzerland, Australia, and Sweden. For more information about trade-weighted indexes visit the Board of Governors.<br>\n",
    "This series will no longer be updated. This series is the suggested substitute, DTWEXAFEGS. https://fred.stlouisfed.org/series/DTWEXAFEGS <br>\n",
    "<br>\n",
    "Trade Weighted U.S. Dollar Index: Advanced Foreign Economies, Goods and Services (DTWEXAFEGS)<br>\n",
    "Units:  Index Jan 2006=100, Not Seasonally Adjusted <br>\n",
    "Frequency:  Daily"
   ]
  },
  {
   "cell_type": "code",
   "execution_count": 20,
   "id": "58b74626",
   "metadata": {},
   "outputs": [
    {
     "data": {
      "text/plain": [
       "<AxesSubplot:>"
      ]
     },
     "execution_count": 20,
     "metadata": {},
     "output_type": "execute_result"
    },
    {
     "data": {
      "image/png": "[encoded data removed]",
      "text/plain": [
       "<Figure size 432x288 with 1 Axes>"
      ]
     },
     "metadata": {
      "needs_background": "light"
     },
     "output_type": "display_data"
    }
   ],
   "source": [
    "ts1 = get_fred_data(['DTWEXM'])\n",
    "ts1.plot()"
   ]
  },
  {
   "cell_type": "code",
   "execution_count": 21,
   "id": "9236a57c",
   "metadata": {},
   "outputs": [
    {
     "data": {
      "text/plain": [
       "<AxesSubplot:>"
      ]
     },
     "execution_count": 21,
     "metadata": {},
     "output_type": "execute_result"
    },
    {
     "data": {
      "image/png": "[encoded data removed]",
      "text/plain": [
       "<Figure size 432x288 with 1 Axes>"
      ]
     },
     "metadata": {
      "needs_background": "light"
     },
     "output_type": "display_data"
    }
   ],
   "source": [
    "ts2 = get_fred_data(['DTWEXAFEGS'])\n",
    "ts2.plot()"
   ]
  },
  {
   "cell_type": "code",
   "execution_count": 22,
   "id": "b269dcdd",
   "metadata": {},
   "outputs": [
    {
     "data": {
      "text/html": [
       "<div>\n",
       "<style scoped>\n",
       "    .dataframe tbody tr th:only-of-type {\n",
       "        vertical-align: middle;\n",
       "    }\n",
       "\n",
       "    .dataframe tbody tr th {\n",
       "        vertical-align: top;\n",
       "    }\n",
       "\n",
       "    .dataframe thead th {\n",
       "        text-align: right;\n",
       "    }\n",
       "</style>\n",
       "<table border=\"1\" class=\"dataframe\">\n",
       "  <thead>\n",
       "    <tr style=\"text-align: right;\">\n",
       "      <th></th>\n",
       "      <th>DTWEXM</th>\n",
       "    </tr>\n",
       "  </thead>\n",
       "  <tbody>\n",
       "    <tr>\n",
       "      <th>1973-01-02</th>\n",
       "      <td>108.2242</td>\n",
       "    </tr>\n",
       "    <tr>\n",
       "      <th>1973-01-03</th>\n",
       "      <td>108.2934</td>\n",
       "    </tr>\n",
       "    <tr>\n",
       "      <th>1973-01-04</th>\n",
       "      <td>108.2632</td>\n",
       "    </tr>\n",
       "    <tr>\n",
       "      <th>1973-01-05</th>\n",
       "      <td>108.2548</td>\n",
       "    </tr>\n",
       "    <tr>\n",
       "      <th>1973-01-08</th>\n",
       "      <td>108.3818</td>\n",
       "    </tr>\n",
       "    <tr>\n",
       "      <th>...</th>\n",
       "      <td>...</td>\n",
       "    </tr>\n",
       "    <tr>\n",
       "      <th>2019-12-25</th>\n",
       "      <td>NaN</td>\n",
       "    </tr>\n",
       "    <tr>\n",
       "      <th>2019-12-26</th>\n",
       "      <td>91.9234</td>\n",
       "    </tr>\n",
       "    <tr>\n",
       "      <th>2019-12-27</th>\n",
       "      <td>91.4593</td>\n",
       "    </tr>\n",
       "    <tr>\n",
       "      <th>2019-12-30</th>\n",
       "      <td>91.1403</td>\n",
       "    </tr>\n",
       "    <tr>\n",
       "      <th>2019-12-31</th>\n",
       "      <td>90.8221</td>\n",
       "    </tr>\n",
       "  </tbody>\n",
       "</table>\n",
       "<p>12261 rows × 1 columns</p>\n",
       "</div>"
      ],
      "text/plain": [
       "              DTWEXM\n",
       "1973-01-02  108.2242\n",
       "1973-01-03  108.2934\n",
       "1973-01-04  108.2632\n",
       "1973-01-05  108.2548\n",
       "1973-01-08  108.3818\n",
       "...              ...\n",
       "2019-12-25       NaN\n",
       "2019-12-26   91.9234\n",
       "2019-12-27   91.4593\n",
       "2019-12-30   91.1403\n",
       "2019-12-31   90.8221\n",
       "\n",
       "[12261 rows x 1 columns]"
      ]
     },
     "execution_count": 22,
     "metadata": {},
     "output_type": "execute_result"
    }
   ],
   "source": [
    "ts1"
   ]
  },
  {
   "cell_type": "code",
   "execution_count": 23,
   "id": "ac83b2e3",
   "metadata": {},
   "outputs": [
    {
     "data": {
      "text/html": [
       "<div>\n",
       "<style scoped>\n",
       "    .dataframe tbody tr th:only-of-type {\n",
       "        vertical-align: middle;\n",
       "    }\n",
       "\n",
       "    .dataframe tbody tr th {\n",
       "        vertical-align: top;\n",
       "    }\n",
       "\n",
       "    .dataframe thead th {\n",
       "        text-align: right;\n",
       "    }\n",
       "</style>\n",
       "<table border=\"1\" class=\"dataframe\">\n",
       "  <thead>\n",
       "    <tr style=\"text-align: right;\">\n",
       "      <th></th>\n",
       "      <th>DTWEXAFEGS</th>\n",
       "    </tr>\n",
       "  </thead>\n",
       "  <tbody>\n",
       "    <tr>\n",
       "      <th>2006-01-02</th>\n",
       "      <td>101.7857</td>\n",
       "    </tr>\n",
       "    <tr>\n",
       "      <th>2006-01-03</th>\n",
       "      <td>100.6967</td>\n",
       "    </tr>\n",
       "    <tr>\n",
       "      <th>2006-01-04</th>\n",
       "      <td>100.0512</td>\n",
       "    </tr>\n",
       "    <tr>\n",
       "      <th>2006-01-05</th>\n",
       "      <td>100.2697</td>\n",
       "    </tr>\n",
       "    <tr>\n",
       "      <th>2006-01-06</th>\n",
       "      <td>99.8965</td>\n",
       "    </tr>\n",
       "    <tr>\n",
       "      <th>...</th>\n",
       "      <td>...</td>\n",
       "    </tr>\n",
       "    <tr>\n",
       "      <th>2021-06-14</th>\n",
       "      <td>102.2002</td>\n",
       "    </tr>\n",
       "    <tr>\n",
       "      <th>2021-06-15</th>\n",
       "      <td>102.4448</td>\n",
       "    </tr>\n",
       "    <tr>\n",
       "      <th>2021-06-16</th>\n",
       "      <td>102.2976</td>\n",
       "    </tr>\n",
       "    <tr>\n",
       "      <th>2021-06-17</th>\n",
       "      <td>103.8428</td>\n",
       "    </tr>\n",
       "    <tr>\n",
       "      <th>2021-06-18</th>\n",
       "      <td>104.2993</td>\n",
       "    </tr>\n",
       "  </tbody>\n",
       "</table>\n",
       "<p>4035 rows × 1 columns</p>\n",
       "</div>"
      ],
      "text/plain": [
       "            DTWEXAFEGS\n",
       "2006-01-02    101.7857\n",
       "2006-01-03    100.6967\n",
       "2006-01-04    100.0512\n",
       "2006-01-05    100.2697\n",
       "2006-01-06     99.8965\n",
       "...                ...\n",
       "2021-06-14    102.2002\n",
       "2021-06-15    102.4448\n",
       "2021-06-16    102.2976\n",
       "2021-06-17    103.8428\n",
       "2021-06-18    104.2993\n",
       "\n",
       "[4035 rows x 1 columns]"
      ]
     },
     "execution_count": 23,
     "metadata": {},
     "output_type": "execute_result"
    }
   ],
   "source": [
    "ts2"
   ]
  },
  {
   "cell_type": "code",
   "execution_count": 24,
   "id": "1d68d79b",
   "metadata": {},
   "outputs": [],
   "source": [
    "del ts1 \n",
    "del ts2"
   ]
  },
  {
   "cell_type": "markdown",
   "id": "f145e038",
   "metadata": {},
   "source": [
    "CBOE Volatility Index: VIX (VIXCLS)<br>\n",
    "Units:  Index, Not Seasonally Adjusted<br>\n",
    "Frequency:  Daily, Close<br>\n",
    "VIX measures market expectation of near term volatility conveyed by stock index option prices. Copyright, 2016, Chicago Board Options Exchange, Inc. Reprinted with permission. <br>"
   ]
  },
  {
   "cell_type": "code",
   "execution_count": 25,
   "id": "54a942ee",
   "metadata": {},
   "outputs": [
    {
     "data": {
      "text/plain": [
       "<AxesSubplot:>"
      ]
     },
     "execution_count": 25,
     "metadata": {},
     "output_type": "execute_result"
    },
    {
     "data": {
      "image/png": "[encoded data removed]",
      "text/plain": [
       "<Figure size 432x288 with 1 Axes>"
      ]
     },
     "metadata": {
      "needs_background": "light"
     },
     "output_type": "display_data"
    }
   ],
   "source": [
    "ts = get_fred_data(['VIXCLS'])\n",
    "ts.plot()"
   ]
  },
  {
   "cell_type": "code",
   "execution_count": 26,
   "id": "f4b6b2ad",
   "metadata": {},
   "outputs": [
    {
     "data": {
      "text/html": [
       "<div>\n",
       "<style scoped>\n",
       "    .dataframe tbody tr th:only-of-type {\n",
       "        vertical-align: middle;\n",
       "    }\n",
       "\n",
       "    .dataframe tbody tr th {\n",
       "        vertical-align: top;\n",
       "    }\n",
       "\n",
       "    .dataframe thead th {\n",
       "        text-align: right;\n",
       "    }\n",
       "</style>\n",
       "<table border=\"1\" class=\"dataframe\">\n",
       "  <thead>\n",
       "    <tr style=\"text-align: right;\">\n",
       "      <th></th>\n",
       "      <th>VIXCLS</th>\n",
       "    </tr>\n",
       "  </thead>\n",
       "  <tbody>\n",
       "    <tr>\n",
       "      <th>1990-01-02</th>\n",
       "      <td>17.24</td>\n",
       "    </tr>\n",
       "    <tr>\n",
       "      <th>1990-01-03</th>\n",
       "      <td>18.19</td>\n",
       "    </tr>\n",
       "    <tr>\n",
       "      <th>1990-01-04</th>\n",
       "      <td>19.22</td>\n",
       "    </tr>\n",
       "    <tr>\n",
       "      <th>1990-01-05</th>\n",
       "      <td>20.11</td>\n",
       "    </tr>\n",
       "    <tr>\n",
       "      <th>1990-01-08</th>\n",
       "      <td>20.26</td>\n",
       "    </tr>\n",
       "    <tr>\n",
       "      <th>...</th>\n",
       "      <td>...</td>\n",
       "    </tr>\n",
       "    <tr>\n",
       "      <th>2021-06-16</th>\n",
       "      <td>18.15</td>\n",
       "    </tr>\n",
       "    <tr>\n",
       "      <th>2021-06-17</th>\n",
       "      <td>17.75</td>\n",
       "    </tr>\n",
       "    <tr>\n",
       "      <th>2021-06-18</th>\n",
       "      <td>20.70</td>\n",
       "    </tr>\n",
       "    <tr>\n",
       "      <th>2021-06-21</th>\n",
       "      <td>17.89</td>\n",
       "    </tr>\n",
       "    <tr>\n",
       "      <th>2021-06-22</th>\n",
       "      <td>16.66</td>\n",
       "    </tr>\n",
       "  </tbody>\n",
       "</table>\n",
       "<p>8211 rows × 1 columns</p>\n",
       "</div>"
      ],
      "text/plain": [
       "            VIXCLS\n",
       "1990-01-02   17.24\n",
       "1990-01-03   18.19\n",
       "1990-01-04   19.22\n",
       "1990-01-05   20.11\n",
       "1990-01-08   20.26\n",
       "...            ...\n",
       "2021-06-16   18.15\n",
       "2021-06-17   17.75\n",
       "2021-06-18   20.70\n",
       "2021-06-21   17.89\n",
       "2021-06-22   16.66\n",
       "\n",
       "[8211 rows x 1 columns]"
      ]
     },
     "execution_count": 26,
     "metadata": {},
     "output_type": "execute_result"
    }
   ],
   "source": [
    "ts"
   ]
  },
  {
   "cell_type": "code",
   "execution_count": 27,
   "id": "4fc94482",
   "metadata": {},
   "outputs": [],
   "source": [
    "del ts"
   ]
  },
  {
   "cell_type": "markdown",
   "id": "40274ee9",
   "metadata": {},
   "source": [
    "University of Michigan: Consumer Sentiment (DISCONTINUED) (UMCSENT1) <br>\n",
    "Units:  Index 1966:Q1=100, Not Seasonally Adjusted <br>\n",
    "Frequency:  Not Applicable <br>\n",
    "Please see FRED data series UMCSENT for monthly data beginning in January 1978. <br>\n",
    "\n",
    "University of Michigan: Consumer Sentiment (UMCSENT) <br>\n",
    "Units:  Index 1966:Q1=100, Not Seasonally Adjusted <br>\n",
    "Frequency:  Monthly <br>\n",
    "At the request of the source, the data is delayed by 1 month. To obtain historical data prior to January 1978, please see FRED data series UMCSENT1. <br>"
   ]
  },
  {
   "cell_type": "code",
   "execution_count": 28,
   "id": "f55556a0",
   "metadata": {},
   "outputs": [
    {
     "data": {
      "text/plain": [
       "<AxesSubplot:>"
      ]
     },
     "execution_count": 28,
     "metadata": {},
     "output_type": "execute_result"
    },
    {
     "data": {
      "image/png": "[encoded data removed]",
      "text/plain": [
       "<Figure size 432x288 with 1 Axes>"
      ]
     },
     "metadata": {
      "needs_background": "light"
     },
     "output_type": "display_data"
    },
    {
     "data": {
      "image/png": "[encoded data removed]",
      "text/plain": [
       "<Figure size 432x288 with 1 Axes>"
      ]
     },
     "metadata": {
      "needs_background": "light"
     },
     "output_type": "display_data"
    }
   ],
   "source": [
    "ts1 = get_fred_data(['UMCSENT1'])\n",
    "ts2 = get_fred_data(['UMCSENT']).dropna()\n",
    "ts1.plot()\n",
    "ts2.plot()"
   ]
  },
  {
   "cell_type": "code",
   "execution_count": 29,
   "id": "380e7aa0",
   "metadata": {},
   "outputs": [
    {
     "data": {
      "text/html": [
       "<div>\n",
       "<style scoped>\n",
       "    .dataframe tbody tr th:only-of-type {\n",
       "        vertical-align: middle;\n",
       "    }\n",
       "\n",
       "    .dataframe tbody tr th {\n",
       "        vertical-align: top;\n",
       "    }\n",
       "\n",
       "    .dataframe thead th {\n",
       "        text-align: right;\n",
       "    }\n",
       "</style>\n",
       "<table border=\"1\" class=\"dataframe\">\n",
       "  <thead>\n",
       "    <tr style=\"text-align: right;\">\n",
       "      <th></th>\n",
       "      <th>UMCSENT1</th>\n",
       "    </tr>\n",
       "  </thead>\n",
       "  <tbody>\n",
       "    <tr>\n",
       "      <th>1952-11-01</th>\n",
       "      <td>86.2</td>\n",
       "    </tr>\n",
       "    <tr>\n",
       "      <th>1953-02-01</th>\n",
       "      <td>90.7</td>\n",
       "    </tr>\n",
       "    <tr>\n",
       "      <th>1953-08-01</th>\n",
       "      <td>80.8</td>\n",
       "    </tr>\n",
       "    <tr>\n",
       "      <th>1953-11-01</th>\n",
       "      <td>80.7</td>\n",
       "    </tr>\n",
       "    <tr>\n",
       "      <th>1954-02-01</th>\n",
       "      <td>82.0</td>\n",
       "    </tr>\n",
       "    <tr>\n",
       "      <th>...</th>\n",
       "      <td>...</td>\n",
       "    </tr>\n",
       "    <tr>\n",
       "      <th>1976-11-01</th>\n",
       "      <td>87.0</td>\n",
       "    </tr>\n",
       "    <tr>\n",
       "      <th>1977-02-01</th>\n",
       "      <td>87.1</td>\n",
       "    </tr>\n",
       "    <tr>\n",
       "      <th>1977-05-01</th>\n",
       "      <td>90.2</td>\n",
       "    </tr>\n",
       "    <tr>\n",
       "      <th>1977-08-01</th>\n",
       "      <td>89.0</td>\n",
       "    </tr>\n",
       "    <tr>\n",
       "      <th>1977-11-01</th>\n",
       "      <td>84.4</td>\n",
       "    </tr>\n",
       "  </tbody>\n",
       "</table>\n",
       "<p>92 rows × 1 columns</p>\n",
       "</div>"
      ],
      "text/plain": [
       "            UMCSENT1\n",
       "1952-11-01      86.2\n",
       "1953-02-01      90.7\n",
       "1953-08-01      80.8\n",
       "1953-11-01      80.7\n",
       "1954-02-01      82.0\n",
       "...              ...\n",
       "1976-11-01      87.0\n",
       "1977-02-01      87.1\n",
       "1977-05-01      90.2\n",
       "1977-08-01      89.0\n",
       "1977-11-01      84.4\n",
       "\n",
       "[92 rows x 1 columns]"
      ]
     },
     "execution_count": 29,
     "metadata": {},
     "output_type": "execute_result"
    }
   ],
   "source": [
    "ts1"
   ]
  },
  {
   "cell_type": "code",
   "execution_count": 30,
   "id": "96ba713e",
   "metadata": {},
   "outputs": [
    {
     "data": {
      "text/html": [
       "<div>\n",
       "<style scoped>\n",
       "    .dataframe tbody tr th:only-of-type {\n",
       "        vertical-align: middle;\n",
       "    }\n",
       "\n",
       "    .dataframe tbody tr th {\n",
       "        vertical-align: top;\n",
       "    }\n",
       "\n",
       "    .dataframe thead th {\n",
       "        text-align: right;\n",
       "    }\n",
       "</style>\n",
       "<table border=\"1\" class=\"dataframe\">\n",
       "  <thead>\n",
       "    <tr style=\"text-align: right;\">\n",
       "      <th></th>\n",
       "      <th>UMCSENT</th>\n",
       "    </tr>\n",
       "  </thead>\n",
       "  <tbody>\n",
       "    <tr>\n",
       "      <th>1952-11-01</th>\n",
       "      <td>86.2</td>\n",
       "    </tr>\n",
       "    <tr>\n",
       "      <th>1953-02-01</th>\n",
       "      <td>90.7</td>\n",
       "    </tr>\n",
       "    <tr>\n",
       "      <th>1953-08-01</th>\n",
       "      <td>80.8</td>\n",
       "    </tr>\n",
       "    <tr>\n",
       "      <th>1953-11-01</th>\n",
       "      <td>80.7</td>\n",
       "    </tr>\n",
       "    <tr>\n",
       "      <th>1954-02-01</th>\n",
       "      <td>82.0</td>\n",
       "    </tr>\n",
       "    <tr>\n",
       "      <th>...</th>\n",
       "      <td>...</td>\n",
       "    </tr>\n",
       "    <tr>\n",
       "      <th>2020-12-01</th>\n",
       "      <td>80.7</td>\n",
       "    </tr>\n",
       "    <tr>\n",
       "      <th>2021-01-01</th>\n",
       "      <td>79.0</td>\n",
       "    </tr>\n",
       "    <tr>\n",
       "      <th>2021-02-01</th>\n",
       "      <td>76.8</td>\n",
       "    </tr>\n",
       "    <tr>\n",
       "      <th>2021-03-01</th>\n",
       "      <td>84.9</td>\n",
       "    </tr>\n",
       "    <tr>\n",
       "      <th>2021-04-01</th>\n",
       "      <td>88.3</td>\n",
       "    </tr>\n",
       "  </tbody>\n",
       "</table>\n",
       "<p>612 rows × 1 columns</p>\n",
       "</div>"
      ],
      "text/plain": [
       "            UMCSENT\n",
       "1952-11-01     86.2\n",
       "1953-02-01     90.7\n",
       "1953-08-01     80.8\n",
       "1953-11-01     80.7\n",
       "1954-02-01     82.0\n",
       "...             ...\n",
       "2020-12-01     80.7\n",
       "2021-01-01     79.0\n",
       "2021-02-01     76.8\n",
       "2021-03-01     84.9\n",
       "2021-04-01     88.3\n",
       "\n",
       "[612 rows x 1 columns]"
      ]
     },
     "execution_count": 30,
     "metadata": {},
     "output_type": "execute_result"
    }
   ],
   "source": [
    "ts2"
   ]
  },
  {
   "cell_type": "code",
   "execution_count": 31,
   "id": "3d7a7c83",
   "metadata": {},
   "outputs": [],
   "source": [
    "del ts1 \n",
    "del ts2"
   ]
  },
  {
   "cell_type": "markdown",
   "id": "4fd850b8",
   "metadata": {},
   "source": [
    "St. Louis Fed Financial Stress Index (STLFSI2)<br>\n",
    "Frequency:  Weekly, Ending Friday<br>\n",
    "The STLFSI2 measures the degree of financial stress in the markets and is constructed from 18 weekly data series, all of which are weekly averages of daily data series: seven interest rates, six yield spreads, and five other indicators. Each of these variables captures some aspect of financial stress. Accordingly, as the level of financial stress in the economy changes, the data series are likely to move together.<br>\n",
    "How to Interpret the Index:<br>\n",
    "The average value of the index, which begins in late 1993, is designed to be zero. Thus, zero is viewed as representing normal financial market conditions. Values below zero suggest below-average financial market stress, while values above zero suggest above-average financial market stress."
   ]
  },
  {
   "cell_type": "code",
   "execution_count": 32,
   "id": "06a7ab94",
   "metadata": {},
   "outputs": [
    {
     "data": {
      "text/plain": [
       "<AxesSubplot:>"
      ]
     },
     "execution_count": 32,
     "metadata": {},
     "output_type": "execute_result"
    },
    {
     "data": {
      "image/png": "[encoded data removed]",
      "text/plain": [
       "<Figure size 432x288 with 1 Axes>"
      ]
     },
     "metadata": {
      "needs_background": "light"
     },
     "output_type": "display_data"
    }
   ],
   "source": [
    "ts = get_fred_data(['STLFSI2'])\n",
    "ts.plot()"
   ]
  },
  {
   "cell_type": "code",
   "execution_count": 33,
   "id": "dc772422",
   "metadata": {},
   "outputs": [
    {
     "data": {
      "text/html": [
       "<div>\n",
       "<style scoped>\n",
       "    .dataframe tbody tr th:only-of-type {\n",
       "        vertical-align: middle;\n",
       "    }\n",
       "\n",
       "    .dataframe tbody tr th {\n",
       "        vertical-align: top;\n",
       "    }\n",
       "\n",
       "    .dataframe thead th {\n",
       "        text-align: right;\n",
       "    }\n",
       "</style>\n",
       "<table border=\"1\" class=\"dataframe\">\n",
       "  <thead>\n",
       "    <tr style=\"text-align: right;\">\n",
       "      <th></th>\n",
       "      <th>STLFSI2</th>\n",
       "    </tr>\n",
       "  </thead>\n",
       "  <tbody>\n",
       "    <tr>\n",
       "      <th>1993-12-31</th>\n",
       "      <td>-0.3894</td>\n",
       "    </tr>\n",
       "    <tr>\n",
       "      <th>1994-01-07</th>\n",
       "      <td>-0.5012</td>\n",
       "    </tr>\n",
       "    <tr>\n",
       "      <th>1994-01-14</th>\n",
       "      <td>-0.2170</td>\n",
       "    </tr>\n",
       "    <tr>\n",
       "      <th>1994-01-21</th>\n",
       "      <td>-0.4753</td>\n",
       "    </tr>\n",
       "    <tr>\n",
       "      <th>1994-01-28</th>\n",
       "      <td>-0.3180</td>\n",
       "    </tr>\n",
       "    <tr>\n",
       "      <th>...</th>\n",
       "      <td>...</td>\n",
       "    </tr>\n",
       "    <tr>\n",
       "      <th>2021-05-14</th>\n",
       "      <td>-0.8648</td>\n",
       "    </tr>\n",
       "    <tr>\n",
       "      <th>2021-05-21</th>\n",
       "      <td>-0.8505</td>\n",
       "    </tr>\n",
       "    <tr>\n",
       "      <th>2021-05-28</th>\n",
       "      <td>-0.9684</td>\n",
       "    </tr>\n",
       "    <tr>\n",
       "      <th>2021-06-04</th>\n",
       "      <td>-1.0054</td>\n",
       "    </tr>\n",
       "    <tr>\n",
       "      <th>2021-06-11</th>\n",
       "      <td>-0.9790</td>\n",
       "    </tr>\n",
       "  </tbody>\n",
       "</table>\n",
       "<p>1433 rows × 1 columns</p>\n",
       "</div>"
      ],
      "text/plain": [
       "            STLFSI2\n",
       "1993-12-31  -0.3894\n",
       "1994-01-07  -0.5012\n",
       "1994-01-14  -0.2170\n",
       "1994-01-21  -0.4753\n",
       "1994-01-28  -0.3180\n",
       "...             ...\n",
       "2021-05-14  -0.8648\n",
       "2021-05-21  -0.8505\n",
       "2021-05-28  -0.9684\n",
       "2021-06-04  -1.0054\n",
       "2021-06-11  -0.9790\n",
       "\n",
       "[1433 rows x 1 columns]"
      ]
     },
     "execution_count": 33,
     "metadata": {},
     "output_type": "execute_result"
    }
   ],
   "source": [
    "ts"
   ]
  },
  {
   "cell_type": "code",
   "execution_count": 34,
   "id": "419a4985",
   "metadata": {},
   "outputs": [],
   "source": [
    "del ts"
   ]
  },
  {
   "cell_type": "markdown",
   "id": "4eb2e4bd",
   "metadata": {},
   "source": [
    "Unemployment Rate (UNRATE)<br>\n",
    "Units:  Percent, Seasonally Adjusted<br>\n",
    "Frequency:  Monthly<br>\n",
    "The unemployment rate represents the number of unemployed as a percentage of the labor force. Labor force data are restricted to people 16 years of age and older, who currently reside in 1 of the 50 states or the District of Columbia, who do not reside in institutions (e.g., penal and mental facilities, homes for the aged), and who are not on active duty in the Armed Forces.<br>\n",
    "This rate is also defined as the U-3 measure of labor underutilization.<br>\n",
    "The series comes from the 'Current Population Survey (Household Survey)'<br>"
   ]
  },
  {
   "cell_type": "code",
   "execution_count": 35,
   "id": "d75123f1",
   "metadata": {},
   "outputs": [
    {
     "data": {
      "text/plain": [
       "<AxesSubplot:>"
      ]
     },
     "execution_count": 35,
     "metadata": {},
     "output_type": "execute_result"
    },
    {
     "data": {
      "image/png": "[encoded data removed]",
      "text/plain": [
       "<Figure size 432x288 with 1 Axes>"
      ]
     },
     "metadata": {
      "needs_background": "light"
     },
     "output_type": "display_data"
    }
   ],
   "source": [
    "ts = get_fred_data(['UNRATE'])\n",
    "ts.plot()"
   ]
  },
  {
   "cell_type": "code",
   "execution_count": 36,
   "id": "f90770ed",
   "metadata": {},
   "outputs": [
    {
     "data": {
      "text/html": [
       "<div>\n",
       "<style scoped>\n",
       "    .dataframe tbody tr th:only-of-type {\n",
       "        vertical-align: middle;\n",
       "    }\n",
       "\n",
       "    .dataframe tbody tr th {\n",
       "        vertical-align: top;\n",
       "    }\n",
       "\n",
       "    .dataframe thead th {\n",
       "        text-align: right;\n",
       "    }\n",
       "</style>\n",
       "<table border=\"1\" class=\"dataframe\">\n",
       "  <thead>\n",
       "    <tr style=\"text-align: right;\">\n",
       "      <th></th>\n",
       "      <th>UNRATE</th>\n",
       "    </tr>\n",
       "  </thead>\n",
       "  <tbody>\n",
       "    <tr>\n",
       "      <th>1948-01-01</th>\n",
       "      <td>3.4</td>\n",
       "    </tr>\n",
       "    <tr>\n",
       "      <th>1948-02-01</th>\n",
       "      <td>3.8</td>\n",
       "    </tr>\n",
       "    <tr>\n",
       "      <th>1948-03-01</th>\n",
       "      <td>4.0</td>\n",
       "    </tr>\n",
       "    <tr>\n",
       "      <th>1948-04-01</th>\n",
       "      <td>3.9</td>\n",
       "    </tr>\n",
       "    <tr>\n",
       "      <th>1948-05-01</th>\n",
       "      <td>3.5</td>\n",
       "    </tr>\n",
       "    <tr>\n",
       "      <th>...</th>\n",
       "      <td>...</td>\n",
       "    </tr>\n",
       "    <tr>\n",
       "      <th>2021-01-01</th>\n",
       "      <td>6.3</td>\n",
       "    </tr>\n",
       "    <tr>\n",
       "      <th>2021-02-01</th>\n",
       "      <td>6.2</td>\n",
       "    </tr>\n",
       "    <tr>\n",
       "      <th>2021-03-01</th>\n",
       "      <td>6.0</td>\n",
       "    </tr>\n",
       "    <tr>\n",
       "      <th>2021-04-01</th>\n",
       "      <td>6.1</td>\n",
       "    </tr>\n",
       "    <tr>\n",
       "      <th>2021-05-01</th>\n",
       "      <td>5.8</td>\n",
       "    </tr>\n",
       "  </tbody>\n",
       "</table>\n",
       "<p>881 rows × 1 columns</p>\n",
       "</div>"
      ],
      "text/plain": [
       "            UNRATE\n",
       "1948-01-01     3.4\n",
       "1948-02-01     3.8\n",
       "1948-03-01     4.0\n",
       "1948-04-01     3.9\n",
       "1948-05-01     3.5\n",
       "...            ...\n",
       "2021-01-01     6.3\n",
       "2021-02-01     6.2\n",
       "2021-03-01     6.0\n",
       "2021-04-01     6.1\n",
       "2021-05-01     5.8\n",
       "\n",
       "[881 rows x 1 columns]"
      ]
     },
     "execution_count": 36,
     "metadata": {},
     "output_type": "execute_result"
    }
   ],
   "source": [
    "ts"
   ]
  },
  {
   "cell_type": "code",
   "execution_count": 37,
   "id": "890aaa46",
   "metadata": {},
   "outputs": [],
   "source": [
    "del ts"
   ]
  },
  {
   "cell_type": "markdown",
   "id": "b1a3dccb",
   "metadata": {},
   "source": [
    "Initial Claims (ICSA)<br>\n",
    "Units:  Number, Seasonally Adjusted<br>\n",
    "Frequency:  Weekly, Ending Saturday<br>\n",
    "An initial claim is a claim filed by an unemployed individual after a separation from an employer. The claim requests a determination of basic eligibility for the Unemployment Insurance program."
   ]
  },
  {
   "cell_type": "code",
   "execution_count": 38,
   "id": "a105462a",
   "metadata": {},
   "outputs": [
    {
     "data": {
      "text/plain": [
       "<AxesSubplot:>"
      ]
     },
     "execution_count": 38,
     "metadata": {},
     "output_type": "execute_result"
    },
    {
     "data": {
      "image/png": "[encoded data removed]",
      "text/plain": [
       "<Figure size 432x288 with 1 Axes>"
      ]
     },
     "metadata": {
      "needs_background": "light"
     },
     "output_type": "display_data"
    }
   ],
   "source": [
    "ts = get_fred_data(['ICSA'])\n",
    "ts.plot()"
   ]
  },
  {
   "cell_type": "code",
   "execution_count": 39,
   "id": "32b88bbb",
   "metadata": {},
   "outputs": [
    {
     "data": {
      "text/html": [
       "<div>\n",
       "<style scoped>\n",
       "    .dataframe tbody tr th:only-of-type {\n",
       "        vertical-align: middle;\n",
       "    }\n",
       "\n",
       "    .dataframe tbody tr th {\n",
       "        vertical-align: top;\n",
       "    }\n",
       "\n",
       "    .dataframe thead th {\n",
       "        text-align: right;\n",
       "    }\n",
       "</style>\n",
       "<table border=\"1\" class=\"dataframe\">\n",
       "  <thead>\n",
       "    <tr style=\"text-align: right;\">\n",
       "      <th></th>\n",
       "      <th>ICSA</th>\n",
       "    </tr>\n",
       "  </thead>\n",
       "  <tbody>\n",
       "    <tr>\n",
       "      <th>1967-01-07</th>\n",
       "      <td>208000.0</td>\n",
       "    </tr>\n",
       "    <tr>\n",
       "      <th>1967-01-14</th>\n",
       "      <td>207000.0</td>\n",
       "    </tr>\n",
       "    <tr>\n",
       "      <th>1967-01-21</th>\n",
       "      <td>217000.0</td>\n",
       "    </tr>\n",
       "    <tr>\n",
       "      <th>1967-01-28</th>\n",
       "      <td>204000.0</td>\n",
       "    </tr>\n",
       "    <tr>\n",
       "      <th>1967-02-04</th>\n",
       "      <td>216000.0</td>\n",
       "    </tr>\n",
       "    <tr>\n",
       "      <th>...</th>\n",
       "      <td>...</td>\n",
       "    </tr>\n",
       "    <tr>\n",
       "      <th>2021-05-15</th>\n",
       "      <td>444000.0</td>\n",
       "    </tr>\n",
       "    <tr>\n",
       "      <th>2021-05-22</th>\n",
       "      <td>405000.0</td>\n",
       "    </tr>\n",
       "    <tr>\n",
       "      <th>2021-05-29</th>\n",
       "      <td>388000.0</td>\n",
       "    </tr>\n",
       "    <tr>\n",
       "      <th>2021-06-05</th>\n",
       "      <td>375000.0</td>\n",
       "    </tr>\n",
       "    <tr>\n",
       "      <th>2021-06-12</th>\n",
       "      <td>412000.0</td>\n",
       "    </tr>\n",
       "  </tbody>\n",
       "</table>\n",
       "<p>2841 rows × 1 columns</p>\n",
       "</div>"
      ],
      "text/plain": [
       "                ICSA\n",
       "1967-01-07  208000.0\n",
       "1967-01-14  207000.0\n",
       "1967-01-21  217000.0\n",
       "1967-01-28  204000.0\n",
       "1967-02-04  216000.0\n",
       "...              ...\n",
       "2021-05-15  444000.0\n",
       "2021-05-22  405000.0\n",
       "2021-05-29  388000.0\n",
       "2021-06-05  375000.0\n",
       "2021-06-12  412000.0\n",
       "\n",
       "[2841 rows x 1 columns]"
      ]
     },
     "execution_count": 39,
     "metadata": {},
     "output_type": "execute_result"
    }
   ],
   "source": [
    "ts"
   ]
  },
  {
   "cell_type": "code",
   "execution_count": 40,
   "id": "e69cef41",
   "metadata": {},
   "outputs": [],
   "source": [
    "del ts"
   ]
  },
  {
   "cell_type": "markdown",
   "id": "6c5732ee",
   "metadata": {},
   "source": [
    "Consumer Price Index for All Urban Consumers: All Items in U.S. City Average (CPIAUCSL)<br>\n",
    "Units:  Index 1982-1984=100, Seasonally Adjusted<br>\n",
    "Frequency:  Monthly<br>\n",
    "The Consumer Price Index for All Urban Consumers: All Items (CPIAUCSL) is a measure of the average monthly change in the price for goods and services paid by urban consumers between any two time periods. It can also represent the buying habits of urban consumers. This particular index includes roughly 88 percent of the total population, accounting for wage earners, clerical workers, technical workers, self-employed, short-term workers, unemployed, retirees, and those not in the labor force.<br>\n",
    "The CPIs are based on prices for food, clothing, shelter, and fuels; transportation fares; service fees (e.g., water and sewer service); and sales taxes. Prices are collected monthly from about 4,000 housing units and approximately 26,000 retail establishments across 87 urban areas. To calculate the index, price changes are averaged with weights representing their importance in the spending of the particular group. The index measures price changes (as a percent change) from a predetermined reference date. In addition to the original unadjusted index distributed, the Bureau of Labor Statistics also releases a seasonally adjusted index. The unadjusted series reflects all factors that may influence a change in prices. However, it can be very useful to look at the seasonally adjusted CPI, which removes the effects of seasonal changes, such as weather, school year, production cycles, and holidays.<br>\n",
    "The CPI can be used to recognize periods of inflation and deflation. Significant increases in the CPI within a short time frame might indicate a period of inflation, and significant decreases in CPI within a short time frame might indicate a period of deflation. However, because the CPI includes volatile food and oil prices, it might not be a reliable measure of inflationary and deflationary periods. For a more accurate detection, the core CPI (CPILFESL) is often used. When using the CPI, please note that it is not applicable to all consumers and should not be used to determine relative living costs. Additionally, the CPI is a statistical measure vulnerable to sampling error since it is based on a sample of prices and not the complete average.<br>"
   ]
  },
  {
   "cell_type": "code",
   "execution_count": 41,
   "id": "5f35fd7b",
   "metadata": {},
   "outputs": [
    {
     "data": {
      "text/plain": [
       "<AxesSubplot:>"
      ]
     },
     "execution_count": 41,
     "metadata": {},
     "output_type": "execute_result"
    },
    {
     "data": {
      "image/png": "[encoded data removed]",
      "text/plain": [
       "<Figure size 432x288 with 1 Axes>"
      ]
     },
     "metadata": {
      "needs_background": "light"
     },
     "output_type": "display_data"
    }
   ],
   "source": [
    "ts = get_fred_data(['CPIAUCSL'])\n",
    "ts.plot()"
   ]
  },
  {
   "cell_type": "code",
   "execution_count": 42,
   "id": "98789ab9",
   "metadata": {},
   "outputs": [
    {
     "data": {
      "text/html": [
       "<div>\n",
       "<style scoped>\n",
       "    .dataframe tbody tr th:only-of-type {\n",
       "        vertical-align: middle;\n",
       "    }\n",
       "\n",
       "    .dataframe tbody tr th {\n",
       "        vertical-align: top;\n",
       "    }\n",
       "\n",
       "    .dataframe thead th {\n",
       "        text-align: right;\n",
       "    }\n",
       "</style>\n",
       "<table border=\"1\" class=\"dataframe\">\n",
       "  <thead>\n",
       "    <tr style=\"text-align: right;\">\n",
       "      <th></th>\n",
       "      <th>CPIAUCSL</th>\n",
       "    </tr>\n",
       "  </thead>\n",
       "  <tbody>\n",
       "    <tr>\n",
       "      <th>1947-01-01</th>\n",
       "      <td>21.480</td>\n",
       "    </tr>\n",
       "    <tr>\n",
       "      <th>1947-02-01</th>\n",
       "      <td>21.620</td>\n",
       "    </tr>\n",
       "    <tr>\n",
       "      <th>1947-03-01</th>\n",
       "      <td>22.000</td>\n",
       "    </tr>\n",
       "    <tr>\n",
       "      <th>1947-04-01</th>\n",
       "      <td>22.000</td>\n",
       "    </tr>\n",
       "    <tr>\n",
       "      <th>1947-05-01</th>\n",
       "      <td>21.950</td>\n",
       "    </tr>\n",
       "    <tr>\n",
       "      <th>...</th>\n",
       "      <td>...</td>\n",
       "    </tr>\n",
       "    <tr>\n",
       "      <th>2021-01-01</th>\n",
       "      <td>262.231</td>\n",
       "    </tr>\n",
       "    <tr>\n",
       "      <th>2021-02-01</th>\n",
       "      <td>263.161</td>\n",
       "    </tr>\n",
       "    <tr>\n",
       "      <th>2021-03-01</th>\n",
       "      <td>264.793</td>\n",
       "    </tr>\n",
       "    <tr>\n",
       "      <th>2021-04-01</th>\n",
       "      <td>266.832</td>\n",
       "    </tr>\n",
       "    <tr>\n",
       "      <th>2021-05-01</th>\n",
       "      <td>268.551</td>\n",
       "    </tr>\n",
       "  </tbody>\n",
       "</table>\n",
       "<p>893 rows × 1 columns</p>\n",
       "</div>"
      ],
      "text/plain": [
       "            CPIAUCSL\n",
       "1947-01-01    21.480\n",
       "1947-02-01    21.620\n",
       "1947-03-01    22.000\n",
       "1947-04-01    22.000\n",
       "1947-05-01    21.950\n",
       "...              ...\n",
       "2021-01-01   262.231\n",
       "2021-02-01   263.161\n",
       "2021-03-01   264.793\n",
       "2021-04-01   266.832\n",
       "2021-05-01   268.551\n",
       "\n",
       "[893 rows x 1 columns]"
      ]
     },
     "execution_count": 42,
     "metadata": {},
     "output_type": "execute_result"
    }
   ],
   "source": [
    "ts"
   ]
  },
  {
   "cell_type": "code",
   "execution_count": 43,
   "id": "02afeb14",
   "metadata": {},
   "outputs": [],
   "source": [
    "del ts"
   ]
  },
  {
   "cell_type": "markdown",
   "id": "c64b3e81",
   "metadata": {},
   "source": [
    "University of Michigan: Inflation Expectation (MICH)<br>\n",
    "Units:  Percent, Not Seasonally Adjusted<br>\n",
    "Frequency:  Monthly<br>\n",
    "Median expected price change next 12 months, Surveys of Consumers. The most recent value is not shown due to an agreement with the source."
   ]
  },
  {
   "cell_type": "code",
   "execution_count": 44,
   "id": "3f65042b",
   "metadata": {},
   "outputs": [
    {
     "data": {
      "text/plain": [
       "<AxesSubplot:>"
      ]
     },
     "execution_count": 44,
     "metadata": {},
     "output_type": "execute_result"
    },
    {
     "data": {
      "image/png": "[encoded data removed]",
      "text/plain": [
       "<Figure size 432x288 with 1 Axes>"
      ]
     },
     "metadata": {
      "needs_background": "light"
     },
     "output_type": "display_data"
    }
   ],
   "source": [
    "ts = get_fred_data(['MICH'])\n",
    "ts.plot()"
   ]
  },
  {
   "cell_type": "code",
   "execution_count": 45,
   "id": "99ca640e",
   "metadata": {},
   "outputs": [
    {
     "data": {
      "text/html": [
       "<div>\n",
       "<style scoped>\n",
       "    .dataframe tbody tr th:only-of-type {\n",
       "        vertical-align: middle;\n",
       "    }\n",
       "\n",
       "    .dataframe tbody tr th {\n",
       "        vertical-align: top;\n",
       "    }\n",
       "\n",
       "    .dataframe thead th {\n",
       "        text-align: right;\n",
       "    }\n",
       "</style>\n",
       "<table border=\"1\" class=\"dataframe\">\n",
       "  <thead>\n",
       "    <tr style=\"text-align: right;\">\n",
       "      <th></th>\n",
       "      <th>MICH</th>\n",
       "    </tr>\n",
       "  </thead>\n",
       "  <tbody>\n",
       "    <tr>\n",
       "      <th>1978-01-01</th>\n",
       "      <td>5.2</td>\n",
       "    </tr>\n",
       "    <tr>\n",
       "      <th>1978-02-01</th>\n",
       "      <td>6.4</td>\n",
       "    </tr>\n",
       "    <tr>\n",
       "      <th>1978-03-01</th>\n",
       "      <td>6.3</td>\n",
       "    </tr>\n",
       "    <tr>\n",
       "      <th>1978-04-01</th>\n",
       "      <td>6.7</td>\n",
       "    </tr>\n",
       "    <tr>\n",
       "      <th>1978-05-01</th>\n",
       "      <td>6.9</td>\n",
       "    </tr>\n",
       "    <tr>\n",
       "      <th>...</th>\n",
       "      <td>...</td>\n",
       "    </tr>\n",
       "    <tr>\n",
       "      <th>2020-12-01</th>\n",
       "      <td>2.5</td>\n",
       "    </tr>\n",
       "    <tr>\n",
       "      <th>2021-01-01</th>\n",
       "      <td>3.0</td>\n",
       "    </tr>\n",
       "    <tr>\n",
       "      <th>2021-02-01</th>\n",
       "      <td>3.3</td>\n",
       "    </tr>\n",
       "    <tr>\n",
       "      <th>2021-03-01</th>\n",
       "      <td>3.1</td>\n",
       "    </tr>\n",
       "    <tr>\n",
       "      <th>2021-04-01</th>\n",
       "      <td>3.4</td>\n",
       "    </tr>\n",
       "  </tbody>\n",
       "</table>\n",
       "<p>520 rows × 1 columns</p>\n",
       "</div>"
      ],
      "text/plain": [
       "            MICH\n",
       "1978-01-01   5.2\n",
       "1978-02-01   6.4\n",
       "1978-03-01   6.3\n",
       "1978-04-01   6.7\n",
       "1978-05-01   6.9\n",
       "...          ...\n",
       "2020-12-01   2.5\n",
       "2021-01-01   3.0\n",
       "2021-02-01   3.3\n",
       "2021-03-01   3.1\n",
       "2021-04-01   3.4\n",
       "\n",
       "[520 rows x 1 columns]"
      ]
     },
     "execution_count": 45,
     "metadata": {},
     "output_type": "execute_result"
    }
   ],
   "source": [
    "ts"
   ]
  },
  {
   "cell_type": "code",
   "execution_count": 46,
   "id": "5d692079",
   "metadata": {},
   "outputs": [],
   "source": [
    "del ts"
   ]
  },
  {
   "cell_type": "markdown",
   "id": "69bdd0eb",
   "metadata": {},
   "source": [
    "Smoothed U.S. Recession Probabilities (RECPROUSM156N)<br>\n",
    "Units:  Percent, Not Seasonally Adjusted<br>\n",
    "Frequency:  Monthly<br>\n",
    "Smoothed recession probabilities for the United States are obtained from a dynamic-factor markov-switching model applied to four monthly coincident variables: non-farm payroll employment, the index of industrial production, real personal income excluding transfer payments, and real manufacturing and trade sales. This model was originally developed in Chauvet, M., \"An Economic Characterization of Business Cycle Dynamics with Factor Structure and Regime Switching,\" International Economic Review, 1998, 39, 969-996."
   ]
  },
  {
   "cell_type": "code",
   "execution_count": 47,
   "id": "36378c95",
   "metadata": {},
   "outputs": [
    {
     "data": {
      "text/plain": [
       "<AxesSubplot:>"
      ]
     },
     "execution_count": 47,
     "metadata": {},
     "output_type": "execute_result"
    },
    {
     "data": {
      "image/png": "[encoded data removed]",
      "text/plain": [
       "<Figure size 432x288 with 1 Axes>"
      ]
     },
     "metadata": {
      "needs_background": "light"
     },
     "output_type": "display_data"
    }
   ],
   "source": [
    "ts = get_fred_data(['RECPROUSM156N'])\n",
    "ts.plot()"
   ]
  },
  {
   "cell_type": "code",
   "execution_count": 48,
   "id": "fc379d32",
   "metadata": {},
   "outputs": [
    {
     "data": {
      "text/html": [
       "<div>\n",
       "<style scoped>\n",
       "    .dataframe tbody tr th:only-of-type {\n",
       "        vertical-align: middle;\n",
       "    }\n",
       "\n",
       "    .dataframe tbody tr th {\n",
       "        vertical-align: top;\n",
       "    }\n",
       "\n",
       "    .dataframe thead th {\n",
       "        text-align: right;\n",
       "    }\n",
       "</style>\n",
       "<table border=\"1\" class=\"dataframe\">\n",
       "  <thead>\n",
       "    <tr style=\"text-align: right;\">\n",
       "      <th></th>\n",
       "      <th>RECPROUSM156N</th>\n",
       "    </tr>\n",
       "  </thead>\n",
       "  <tbody>\n",
       "    <tr>\n",
       "      <th>1967-02-01</th>\n",
       "      <td>NaN</td>\n",
       "    </tr>\n",
       "    <tr>\n",
       "      <th>1967-03-01</th>\n",
       "      <td>NaN</td>\n",
       "    </tr>\n",
       "    <tr>\n",
       "      <th>1967-04-01</th>\n",
       "      <td>NaN</td>\n",
       "    </tr>\n",
       "    <tr>\n",
       "      <th>1967-05-01</th>\n",
       "      <td>NaN</td>\n",
       "    </tr>\n",
       "    <tr>\n",
       "      <th>1967-06-01</th>\n",
       "      <td>1.08</td>\n",
       "    </tr>\n",
       "    <tr>\n",
       "      <th>...</th>\n",
       "      <td>...</td>\n",
       "    </tr>\n",
       "    <tr>\n",
       "      <th>2020-12-01</th>\n",
       "      <td>0.22</td>\n",
       "    </tr>\n",
       "    <tr>\n",
       "      <th>2021-01-01</th>\n",
       "      <td>0.02</td>\n",
       "    </tr>\n",
       "    <tr>\n",
       "      <th>2021-02-01</th>\n",
       "      <td>0.00</td>\n",
       "    </tr>\n",
       "    <tr>\n",
       "      <th>2021-03-01</th>\n",
       "      <td>0.00</td>\n",
       "    </tr>\n",
       "    <tr>\n",
       "      <th>2021-04-01</th>\n",
       "      <td>0.92</td>\n",
       "    </tr>\n",
       "  </tbody>\n",
       "</table>\n",
       "<p>651 rows × 1 columns</p>\n",
       "</div>"
      ],
      "text/plain": [
       "            RECPROUSM156N\n",
       "1967-02-01            NaN\n",
       "1967-03-01            NaN\n",
       "1967-04-01            NaN\n",
       "1967-05-01            NaN\n",
       "1967-06-01           1.08\n",
       "...                   ...\n",
       "2020-12-01           0.22\n",
       "2021-01-01           0.02\n",
       "2021-02-01           0.00\n",
       "2021-03-01           0.00\n",
       "2021-04-01           0.92\n",
       "\n",
       "[651 rows x 1 columns]"
      ]
     },
     "execution_count": 48,
     "metadata": {},
     "output_type": "execute_result"
    }
   ],
   "source": [
    "ts"
   ]
  },
  {
   "cell_type": "code",
   "execution_count": 49,
   "id": "1e719bff",
   "metadata": {},
   "outputs": [],
   "source": [
    "del ts"
   ]
  },
  {
   "cell_type": "code",
   "execution_count": 50,
   "id": "84811750",
   "metadata": {},
   "outputs": [],
   "source": [
    "zip_file_name = './5_factor_model.zip'\n",
    "directory_to_extract_to = './data'\n",
    "download_url('http://mba.tuck.dartmouth.edu/pages/faculty/ken.french/ftp/F-F_Research_Data_5_Factors_2x3_daily_CSV.zip', save_path=zip_file_name, chunk_size=128)\n",
    "with zipfile.ZipFile(zip_file_name, 'r') as zip_ref:\n",
    "    zip_ref.extractall(directory_to_extract_to)\n",
    "os.remove(zip_file_name)\n",
    "    \n",
    "zip_file_name = './momentum_factor.zip'\n",
    "directory_to_extract_to = './data'\n",
    "download_url('http://mba.tuck.dartmouth.edu/pages/faculty/ken.french/ftp/F-F_Momentum_Factor_daily_CSV.zip', save_path=zip_file_name, chunk_size=128)\n",
    "with zipfile.ZipFile(zip_file_name, 'r') as zip_ref:\n",
    "    zip_ref.extractall(directory_to_extract_to)\n",
    "os.remove(zip_file_name)"
   ]
  },
  {
   "cell_type": "code",
   "execution_count": 51,
   "id": "4661e644",
   "metadata": {},
   "outputs": [],
   "source": [
    "file = './data/F-F_Research_Data_5_Factors_2x3_daily.CSV'\n",
    "factors = pd.read_csv(file,skiprows=4,names=['Date','Mkt-RF','SMB','HML','RMW','CMA','RF'],index_col='Date')\n",
    "os.remove(file)\n",
    "\n",
    "file = './data/F-F_Momentum_Factor_daily.CSV'\n",
    "momentum = pd.read_csv(file,skiprows=14,names=['Date','Mom'],index_col='Date').iloc[:-1]\n",
    "os.remove(file)\n",
    "\n",
    "factors.index=factors.index.map(str)\n",
    "momentum.index=momentum.index.map(str)\n",
    "\n",
    "factors.index = pd.to_datetime(factors.index,format=\"%Y%m%d\")\n",
    "momentum.index = pd.to_datetime(momentum.index,format=\"%Y%m%d\")\n",
    "\n",
    "momentum = momentum.loc[momentum.index>=min(factors.index),:]"
   ]
  },
  {
   "cell_type": "code",
   "execution_count": 52,
   "id": "71048f8f",
   "metadata": {},
   "outputs": [],
   "source": [
    "factors=pd.concat([factors,momentum],axis=1)\n",
    "factors = factors.sort_index()\n",
    "del momentum"
   ]
  },
  {
   "cell_type": "code",
   "execution_count": 53,
   "id": "0c72f30e",
   "metadata": {},
   "outputs": [
    {
     "data": {
      "text/plain": [
       "<AxesSubplot:xlabel='Date'>"
      ]
     },
     "execution_count": 53,
     "metadata": {},
     "output_type": "execute_result"
    },
    {
     "data": {
      "image/png": "[encoded data removed]",
      "text/plain": [
       "<Figure size 432x288 with 1 Axes>"
      ]
     },
     "metadata": {
      "needs_background": "light"
     },
     "output_type": "display_data"
    }
   ],
   "source": [
    "((factors.fillna(0)/100)+1).cumprod().plot()"
   ]
  },
  {
   "cell_type": "code",
   "execution_count": 54,
   "id": "44ed1d46",
   "metadata": {},
   "outputs": [],
   "source": [
    "dollar = get_fred_data(['DTWEXM','DTWEXAFEGS'])\n",
    "dollar = dollar/dollar.shift(1)\n",
    "dollar['DTWEXAFEGS'] = dollar['DTWEXAFEGS'].fillna(dollar['DTWEXM'])\n",
    "dollar = dollar.drop(columns=['DTWEXM']).fillna(1)\n",
    "dollar = dollar.cumprod()"
   ]
  },
  {
   "cell_type": "code",
   "execution_count": 55,
   "id": "7c215765",
   "metadata": {},
   "outputs": [],
   "source": [
    "ticks = [t for t in list(tickers.keys()) if t not in ['DTWEXM','DTWEXAFEGS']]"
   ]
  },
  {
   "cell_type": "code",
   "execution_count": 56,
   "id": "a32f2e50",
   "metadata": {},
   "outputs": [],
   "source": [
    "df = get_fred_data(ticks)\n",
    "df = pd.concat([df,dollar])"
   ]
  },
  {
   "cell_type": "code",
   "execution_count": 57,
   "id": "888f9ab8",
   "metadata": {},
   "outputs": [],
   "source": [
    "m_df = df.resample('M').last()\n",
    "m_df[['ICSA']] = df[['ICSA']].resample('M').sum()\n",
    "m_factors = (((factors/100 +1).resample('M').prod() - 1)*100)"
   ]
  },
  {
   "cell_type": "code",
   "execution_count": 58,
   "id": "75a3ff1f",
   "metadata": {},
   "outputs": [
    {
     "data": {
      "text/plain": [
       "<AxesSubplot:xlabel='formatted_date'>"
      ]
     },
     "execution_count": 58,
     "metadata": {},
     "output_type": "execute_result"
    },
    {
     "data": {
      "image/png": "[encoded data removed]",
      "text/plain": [
       "<Figure size 432x288 with 1 Axes>"
      ]
     },
     "metadata": {
      "needs_background": "light"
     },
     "output_type": "display_data"
    }
   ],
   "source": [
    "sp500_data = get_hist_price_data('^GSPC', '1900-12-31', datetime.today().strftime('%Y-%m-%d'), 'daily')\n",
    "sp500_data = sp500_data[['high','low','open','close','volume','adjclose']]\n",
    "sp500_data['adjclose'].plot()"
   ]
  },
  {
   "cell_type": "code",
   "execution_count": 59,
   "id": "82aa793a",
   "metadata": {},
   "outputs": [
    {
     "data": {
      "text/plain": [
       "<AxesSubplot:xlabel='formatted_date'>"
      ]
     },
     "execution_count": 59,
     "metadata": {},
     "output_type": "execute_result"
    },
    {
     "data": {
      "image/png": "[encoded data removed]",
      "text/plain": [
       "<Figure size 432x288 with 1 Axes>"
      ]
     },
     "metadata": {
      "needs_background": "light"
     },
     "output_type": "display_data"
    }
   ],
   "source": [
    "m_sp500_data = get_hist_price_data('^GSPC', '1900-12-31', datetime.today().strftime('%Y-%m-%d'), 'Monthly')\n",
    "m_sp500_data = m_sp500_data[['high','low','open','close','volume','adjclose']]\n",
    "m_sp500_data['adjclose'].plot()"
   ]
  },
  {
   "cell_type": "code",
   "execution_count": 60,
   "id": "59ee9922",
   "metadata": {},
   "outputs": [],
   "source": [
    "sp500_data.to_csv('./data/sp500_data.csv')\n",
    "m_sp500_data.to_csv('./data/monthly_sp500_data.csv')\n",
    "factors.to_csv('./data/factor_data.csv')\n",
    "m_factors.to_csv('./data/monthly_factor_data.csv')\n",
    "df.to_csv('./data/predictor_data.csv')\n",
    "m_df.to_csv('./data/monthly_predictor_data.csv')"
   ]
  },
  {
   "cell_type": "code",
   "execution_count": 61,
   "id": "d4dab0e2",
   "metadata": {},
   "outputs": [
    {
     "data": {
      "text/html": [
       "<div>\n",
       "<style scoped>\n",
       "    .dataframe tbody tr th:only-of-type {\n",
       "        vertical-align: middle;\n",
       "    }\n",
       "\n",
       "    .dataframe tbody tr th {\n",
       "        vertical-align: top;\n",
       "    }\n",
       "\n",
       "    .dataframe thead th {\n",
       "        text-align: right;\n",
       "    }\n",
       "</style>\n",
       "<table border=\"1\" class=\"dataframe\">\n",
       "  <thead>\n",
       "    <tr style=\"text-align: right;\">\n",
       "      <th></th>\n",
       "      <th>Mkt-RF</th>\n",
       "      <th>SMB</th>\n",
       "      <th>HML</th>\n",
       "      <th>RMW</th>\n",
       "      <th>CMA</th>\n",
       "      <th>RF</th>\n",
       "      <th>Mom</th>\n",
       "    </tr>\n",
       "    <tr>\n",
       "      <th>Date</th>\n",
       "      <th></th>\n",
       "      <th></th>\n",
       "      <th></th>\n",
       "      <th></th>\n",
       "      <th></th>\n",
       "      <th></th>\n",
       "      <th></th>\n",
       "    </tr>\n",
       "  </thead>\n",
       "  <tbody>\n",
       "    <tr>\n",
       "      <th>1963-07-01</th>\n",
       "      <td>-0.67</td>\n",
       "      <td>0.00</td>\n",
       "      <td>-0.34</td>\n",
       "      <td>-0.01</td>\n",
       "      <td>0.15</td>\n",
       "      <td>0.012</td>\n",
       "      <td>-0.21</td>\n",
       "    </tr>\n",
       "    <tr>\n",
       "      <th>1963-07-02</th>\n",
       "      <td>0.79</td>\n",
       "      <td>-0.27</td>\n",
       "      <td>0.27</td>\n",
       "      <td>-0.07</td>\n",
       "      <td>-0.19</td>\n",
       "      <td>0.012</td>\n",
       "      <td>0.45</td>\n",
       "    </tr>\n",
       "    <tr>\n",
       "      <th>1963-07-03</th>\n",
       "      <td>0.63</td>\n",
       "      <td>-0.17</td>\n",
       "      <td>-0.10</td>\n",
       "      <td>0.17</td>\n",
       "      <td>-0.33</td>\n",
       "      <td>0.012</td>\n",
       "      <td>0.40</td>\n",
       "    </tr>\n",
       "    <tr>\n",
       "      <th>1963-07-05</th>\n",
       "      <td>0.40</td>\n",
       "      <td>0.08</td>\n",
       "      <td>-0.27</td>\n",
       "      <td>0.08</td>\n",
       "      <td>-0.33</td>\n",
       "      <td>0.012</td>\n",
       "      <td>0.06</td>\n",
       "    </tr>\n",
       "    <tr>\n",
       "      <th>1963-07-08</th>\n",
       "      <td>-0.63</td>\n",
       "      <td>0.04</td>\n",
       "      <td>-0.19</td>\n",
       "      <td>-0.29</td>\n",
       "      <td>0.13</td>\n",
       "      <td>0.012</td>\n",
       "      <td>-0.46</td>\n",
       "    </tr>\n",
       "    <tr>\n",
       "      <th>...</th>\n",
       "      <td>...</td>\n",
       "      <td>...</td>\n",
       "      <td>...</td>\n",
       "      <td>...</td>\n",
       "      <td>...</td>\n",
       "      <td>...</td>\n",
       "      <td>...</td>\n",
       "    </tr>\n",
       "    <tr>\n",
       "      <th>2021-04-26</th>\n",
       "      <td>0.43</td>\n",
       "      <td>0.76</td>\n",
       "      <td>-0.48</td>\n",
       "      <td>-1.26</td>\n",
       "      <td>-0.14</td>\n",
       "      <td>0.000</td>\n",
       "      <td>1.48</td>\n",
       "    </tr>\n",
       "    <tr>\n",
       "      <th>2021-04-27</th>\n",
       "      <td>-0.03</td>\n",
       "      <td>0.07</td>\n",
       "      <td>0.85</td>\n",
       "      <td>0.51</td>\n",
       "      <td>0.07</td>\n",
       "      <td>0.000</td>\n",
       "      <td>0.07</td>\n",
       "    </tr>\n",
       "    <tr>\n",
       "      <th>2021-04-28</th>\n",
       "      <td>-0.06</td>\n",
       "      <td>0.28</td>\n",
       "      <td>0.23</td>\n",
       "      <td>-0.33</td>\n",
       "      <td>-0.36</td>\n",
       "      <td>0.000</td>\n",
       "      <td>-0.16</td>\n",
       "    </tr>\n",
       "    <tr>\n",
       "      <th>2021-04-29</th>\n",
       "      <td>0.39</td>\n",
       "      <td>-0.75</td>\n",
       "      <td>1.11</td>\n",
       "      <td>1.34</td>\n",
       "      <td>-0.20</td>\n",
       "      <td>0.000</td>\n",
       "      <td>-0.96</td>\n",
       "    </tr>\n",
       "    <tr>\n",
       "      <th>2021-04-30</th>\n",
       "      <td>-0.83</td>\n",
       "      <td>-0.50</td>\n",
       "      <td>-0.33</td>\n",
       "      <td>0.15</td>\n",
       "      <td>-0.41</td>\n",
       "      <td>0.000</td>\n",
       "      <td>-0.49</td>\n",
       "    </tr>\n",
       "  </tbody>\n",
       "</table>\n",
       "<p>14558 rows × 7 columns</p>\n",
       "</div>"
      ],
      "text/plain": [
       "            Mkt-RF   SMB   HML   RMW   CMA     RF   Mom\n",
       "Date                                                   \n",
       "1963-07-01   -0.67  0.00 -0.34 -0.01  0.15  0.012 -0.21\n",
       "1963-07-02    0.79 -0.27  0.27 -0.07 -0.19  0.012  0.45\n",
       "1963-07-03    0.63 -0.17 -0.10  0.17 -0.33  0.012  0.40\n",
       "1963-07-05    0.40  0.08 -0.27  0.08 -0.33  0.012  0.06\n",
       "1963-07-08   -0.63  0.04 -0.19 -0.29  0.13  0.012 -0.46\n",
       "...            ...   ...   ...   ...   ...    ...   ...\n",
       "2021-04-26    0.43  0.76 -0.48 -1.26 -0.14  0.000  1.48\n",
       "2021-04-27   -0.03  0.07  0.85  0.51  0.07  0.000  0.07\n",
       "2021-04-28   -0.06  0.28  0.23 -0.33 -0.36  0.000 -0.16\n",
       "2021-04-29    0.39 -0.75  1.11  1.34 -0.20  0.000 -0.96\n",
       "2021-04-30   -0.83 -0.50 -0.33  0.15 -0.41  0.000 -0.49\n",
       "\n",
       "[14558 rows x 7 columns]"
      ]
     },
     "execution_count": 61,
     "metadata": {},
     "output_type": "execute_result"
    }
   ],
   "source": [
    "factors"
   ]
  },
  {
   "cell_type": "code",
   "execution_count": 62,
   "id": "4db9ff63",
   "metadata": {},
   "outputs": [
    {
     "data": {
      "text/html": [
       "<div>\n",
       "<style scoped>\n",
       "    .dataframe tbody tr th:only-of-type {\n",
       "        vertical-align: middle;\n",
       "    }\n",
       "\n",
       "    .dataframe tbody tr th {\n",
       "        vertical-align: top;\n",
       "    }\n",
       "\n",
       "    .dataframe thead th {\n",
       "        text-align: right;\n",
       "    }\n",
       "</style>\n",
       "<table border=\"1\" class=\"dataframe\">\n",
       "  <thead>\n",
       "    <tr style=\"text-align: right;\">\n",
       "      <th></th>\n",
       "      <th>Mkt-RF</th>\n",
       "      <th>SMB</th>\n",
       "      <th>HML</th>\n",
       "      <th>RMW</th>\n",
       "      <th>CMA</th>\n",
       "      <th>RF</th>\n",
       "      <th>Mom</th>\n",
       "    </tr>\n",
       "    <tr>\n",
       "      <th>Date</th>\n",
       "      <th></th>\n",
       "      <th></th>\n",
       "      <th></th>\n",
       "      <th></th>\n",
       "      <th></th>\n",
       "      <th></th>\n",
       "      <th></th>\n",
       "    </tr>\n",
       "  </thead>\n",
       "  <tbody>\n",
       "    <tr>\n",
       "      <th>1963-07-31</th>\n",
       "      <td>-0.402702</td>\n",
       "      <td>-0.461250</td>\n",
       "      <td>-0.949527</td>\n",
       "      <td>0.669357</td>\n",
       "      <td>-1.167930</td>\n",
       "      <td>0.264333</td>\n",
       "      <td>1.350522</td>\n",
       "    </tr>\n",
       "    <tr>\n",
       "      <th>1963-08-31</th>\n",
       "      <td>5.080130</td>\n",
       "      <td>-0.780493</td>\n",
       "      <td>1.679152</td>\n",
       "      <td>0.368838</td>\n",
       "      <td>-0.382403</td>\n",
       "      <td>0.242280</td>\n",
       "      <td>0.596692</td>\n",
       "    </tr>\n",
       "    <tr>\n",
       "      <th>1963-09-30</th>\n",
       "      <td>-1.572795</td>\n",
       "      <td>-0.424447</td>\n",
       "      <td>0.056538</td>\n",
       "      <td>-0.780222</td>\n",
       "      <td>0.146776</td>\n",
       "      <td>0.280373</td>\n",
       "      <td>-0.325989</td>\n",
       "    </tr>\n",
       "    <tr>\n",
       "      <th>1963-10-31</th>\n",
       "      <td>2.510140</td>\n",
       "      <td>-1.330383</td>\n",
       "      <td>0.067535</td>\n",
       "      <td>2.687004</td>\n",
       "      <td>-2.088133</td>\n",
       "      <td>0.299428</td>\n",
       "      <td>3.063741</td>\n",
       "    </tr>\n",
       "    <tr>\n",
       "      <th>1963-11-30</th>\n",
       "      <td>-0.848115</td>\n",
       "      <td>-0.893333</td>\n",
       "      <td>1.798037</td>\n",
       "      <td>-0.504467</td>\n",
       "      <td>2.224436</td>\n",
       "      <td>0.270345</td>\n",
       "      <td>-1.494239</td>\n",
       "    </tr>\n",
       "    <tr>\n",
       "      <th>...</th>\n",
       "      <td>...</td>\n",
       "      <td>...</td>\n",
       "      <td>...</td>\n",
       "      <td>...</td>\n",
       "      <td>...</td>\n",
       "      <td>...</td>\n",
       "      <td>...</td>\n",
       "    </tr>\n",
       "    <tr>\n",
       "      <th>2020-12-31</th>\n",
       "      <td>4.568834</td>\n",
       "      <td>4.549694</td>\n",
       "      <td>-1.398583</td>\n",
       "      <td>-2.047145</td>\n",
       "      <td>-0.059975</td>\n",
       "      <td>0.000000</td>\n",
       "      <td>-1.954898</td>\n",
       "    </tr>\n",
       "    <tr>\n",
       "      <th>2021-01-31</th>\n",
       "      <td>-0.036187</td>\n",
       "      <td>6.768425</td>\n",
       "      <td>2.803563</td>\n",
       "      <td>-3.185383</td>\n",
       "      <td>4.480195</td>\n",
       "      <td>0.000000</td>\n",
       "      <td>1.671962</td>\n",
       "    </tr>\n",
       "    <tr>\n",
       "      <th>2021-02-28</th>\n",
       "      <td>2.741740</td>\n",
       "      <td>4.437831</td>\n",
       "      <td>6.782957</td>\n",
       "      <td>-0.235995</td>\n",
       "      <td>-1.965141</td>\n",
       "      <td>0.000000</td>\n",
       "      <td>-5.773946</td>\n",
       "    </tr>\n",
       "    <tr>\n",
       "      <th>2021-03-31</th>\n",
       "      <td>3.058906</td>\n",
       "      <td>-0.810100</td>\n",
       "      <td>6.918564</td>\n",
       "      <td>6.283026</td>\n",
       "      <td>3.390558</td>\n",
       "      <td>0.000000</td>\n",
       "      <td>-8.672090</td>\n",
       "    </tr>\n",
       "    <tr>\n",
       "      <th>2021-04-30</th>\n",
       "      <td>4.910204</td>\n",
       "      <td>-2.883689</td>\n",
       "      <td>-0.761819</td>\n",
       "      <td>2.123013</td>\n",
       "      <td>-2.577784</td>\n",
       "      <td>0.000000</td>\n",
       "      <td>0.575317</td>\n",
       "    </tr>\n",
       "  </tbody>\n",
       "</table>\n",
       "<p>694 rows × 7 columns</p>\n",
       "</div>"
      ],
      "text/plain": [
       "              Mkt-RF       SMB       HML       RMW       CMA        RF  \\\n",
       "Date                                                                     \n",
       "1963-07-31 -0.402702 -0.461250 -0.949527  0.669357 -1.167930  0.264333   \n",
       "1963-08-31  5.080130 -0.780493  1.679152  0.368838 -0.382403  0.242280   \n",
       "1963-09-30 -1.572795 -0.424447  0.056538 -0.780222  0.146776  0.280373   \n",
       "1963-10-31  2.510140 -1.330383  0.067535  2.687004 -2.088133  0.299428   \n",
       "1963-11-30 -0.848115 -0.893333  1.798037 -0.504467  2.224436  0.270345   \n",
       "...              ...       ...       ...       ...       ...       ...   \n",
       "2020-12-31  4.568834  4.549694 -1.398583 -2.047145 -0.059975  0.000000   \n",
       "2021-01-31 -0.036187  6.768425  2.803563 -3.185383  4.480195  0.000000   \n",
       "2021-02-28  2.741740  4.437831  6.782957 -0.235995 -1.965141  0.000000   \n",
       "2021-03-31  3.058906 -0.810100  6.918564  6.283026  3.390558  0.000000   \n",
       "2021-04-30  4.910204 -2.883689 -0.761819  2.123013 -2.577784  0.000000   \n",
       "\n",
       "                 Mom  \n",
       "Date                  \n",
       "1963-07-31  1.350522  \n",
       "1963-08-31  0.596692  \n",
       "1963-09-30 -0.325989  \n",
       "1963-10-31  3.063741  \n",
       "1963-11-30 -1.494239  \n",
       "...              ...  \n",
       "2020-12-31 -1.954898  \n",
       "2021-01-31  1.671962  \n",
       "2021-02-28 -5.773946  \n",
       "2021-03-31 -8.672090  \n",
       "2021-04-30  0.575317  \n",
       "\n",
       "[694 rows x 7 columns]"
      ]
     },
     "execution_count": 62,
     "metadata": {},
     "output_type": "execute_result"
    }
   ],
   "source": [
    "m_factors"
   ]
  },
  {
   "cell_type": "code",
   "execution_count": 63,
   "id": "0c8080ee",
   "metadata": {},
   "outputs": [
    {
     "data": {
      "text/html": [
       "<div>\n",
       "<style scoped>\n",
       "    .dataframe tbody tr th:only-of-type {\n",
       "        vertical-align: middle;\n",
       "    }\n",
       "\n",
       "    .dataframe tbody tr th {\n",
       "        vertical-align: top;\n",
       "    }\n",
       "\n",
       "    .dataframe thead th {\n",
       "        text-align: right;\n",
       "    }\n",
       "</style>\n",
       "<table border=\"1\" class=\"dataframe\">\n",
       "  <thead>\n",
       "    <tr style=\"text-align: right;\">\n",
       "      <th></th>\n",
       "      <th>DGS1</th>\n",
       "      <th>DGS5</th>\n",
       "      <th>DGS10</th>\n",
       "      <th>DGS20</th>\n",
       "      <th>VIXCLS</th>\n",
       "      <th>UMCSENT</th>\n",
       "      <th>STLFSI2</th>\n",
       "      <th>UNRATE</th>\n",
       "      <th>ICSA</th>\n",
       "      <th>CPIAUCSL</th>\n",
       "      <th>MICH</th>\n",
       "      <th>DTWEXAFEGS</th>\n",
       "    </tr>\n",
       "  </thead>\n",
       "  <tbody>\n",
       "    <tr>\n",
       "      <th>1947-01-01</th>\n",
       "      <td>NaN</td>\n",
       "      <td>NaN</td>\n",
       "      <td>NaN</td>\n",
       "      <td>NaN</td>\n",
       "      <td>NaN</td>\n",
       "      <td>NaN</td>\n",
       "      <td>NaN</td>\n",
       "      <td>NaN</td>\n",
       "      <td>NaN</td>\n",
       "      <td>21.48</td>\n",
       "      <td>NaN</td>\n",
       "      <td>NaN</td>\n",
       "    </tr>\n",
       "    <tr>\n",
       "      <th>1947-02-01</th>\n",
       "      <td>NaN</td>\n",
       "      <td>NaN</td>\n",
       "      <td>NaN</td>\n",
       "      <td>NaN</td>\n",
       "      <td>NaN</td>\n",
       "      <td>NaN</td>\n",
       "      <td>NaN</td>\n",
       "      <td>NaN</td>\n",
       "      <td>NaN</td>\n",
       "      <td>21.62</td>\n",
       "      <td>NaN</td>\n",
       "      <td>NaN</td>\n",
       "    </tr>\n",
       "    <tr>\n",
       "      <th>1947-03-01</th>\n",
       "      <td>NaN</td>\n",
       "      <td>NaN</td>\n",
       "      <td>NaN</td>\n",
       "      <td>NaN</td>\n",
       "      <td>NaN</td>\n",
       "      <td>NaN</td>\n",
       "      <td>NaN</td>\n",
       "      <td>NaN</td>\n",
       "      <td>NaN</td>\n",
       "      <td>22.00</td>\n",
       "      <td>NaN</td>\n",
       "      <td>NaN</td>\n",
       "    </tr>\n",
       "    <tr>\n",
       "      <th>1947-04-01</th>\n",
       "      <td>NaN</td>\n",
       "      <td>NaN</td>\n",
       "      <td>NaN</td>\n",
       "      <td>NaN</td>\n",
       "      <td>NaN</td>\n",
       "      <td>NaN</td>\n",
       "      <td>NaN</td>\n",
       "      <td>NaN</td>\n",
       "      <td>NaN</td>\n",
       "      <td>22.00</td>\n",
       "      <td>NaN</td>\n",
       "      <td>NaN</td>\n",
       "    </tr>\n",
       "    <tr>\n",
       "      <th>1947-05-01</th>\n",
       "      <td>NaN</td>\n",
       "      <td>NaN</td>\n",
       "      <td>NaN</td>\n",
       "      <td>NaN</td>\n",
       "      <td>NaN</td>\n",
       "      <td>NaN</td>\n",
       "      <td>NaN</td>\n",
       "      <td>NaN</td>\n",
       "      <td>NaN</td>\n",
       "      <td>21.95</td>\n",
       "      <td>NaN</td>\n",
       "      <td>NaN</td>\n",
       "    </tr>\n",
       "    <tr>\n",
       "      <th>...</th>\n",
       "      <td>...</td>\n",
       "      <td>...</td>\n",
       "      <td>...</td>\n",
       "      <td>...</td>\n",
       "      <td>...</td>\n",
       "      <td>...</td>\n",
       "      <td>...</td>\n",
       "      <td>...</td>\n",
       "      <td>...</td>\n",
       "      <td>...</td>\n",
       "      <td>...</td>\n",
       "      <td>...</td>\n",
       "    </tr>\n",
       "    <tr>\n",
       "      <th>2021-06-14</th>\n",
       "      <td>NaN</td>\n",
       "      <td>NaN</td>\n",
       "      <td>NaN</td>\n",
       "      <td>NaN</td>\n",
       "      <td>NaN</td>\n",
       "      <td>NaN</td>\n",
       "      <td>NaN</td>\n",
       "      <td>NaN</td>\n",
       "      <td>NaN</td>\n",
       "      <td>NaN</td>\n",
       "      <td>NaN</td>\n",
       "      <td>0.706585</td>\n",
       "    </tr>\n",
       "    <tr>\n",
       "      <th>2021-06-15</th>\n",
       "      <td>NaN</td>\n",
       "      <td>NaN</td>\n",
       "      <td>NaN</td>\n",
       "      <td>NaN</td>\n",
       "      <td>NaN</td>\n",
       "      <td>NaN</td>\n",
       "      <td>NaN</td>\n",
       "      <td>NaN</td>\n",
       "      <td>NaN</td>\n",
       "      <td>NaN</td>\n",
       "      <td>NaN</td>\n",
       "      <td>0.708276</td>\n",
       "    </tr>\n",
       "    <tr>\n",
       "      <th>2021-06-16</th>\n",
       "      <td>NaN</td>\n",
       "      <td>NaN</td>\n",
       "      <td>NaN</td>\n",
       "      <td>NaN</td>\n",
       "      <td>NaN</td>\n",
       "      <td>NaN</td>\n",
       "      <td>NaN</td>\n",
       "      <td>NaN</td>\n",
       "      <td>NaN</td>\n",
       "      <td>NaN</td>\n",
       "      <td>NaN</td>\n",
       "      <td>0.707259</td>\n",
       "    </tr>\n",
       "    <tr>\n",
       "      <th>2021-06-17</th>\n",
       "      <td>NaN</td>\n",
       "      <td>NaN</td>\n",
       "      <td>NaN</td>\n",
       "      <td>NaN</td>\n",
       "      <td>NaN</td>\n",
       "      <td>NaN</td>\n",
       "      <td>NaN</td>\n",
       "      <td>NaN</td>\n",
       "      <td>NaN</td>\n",
       "      <td>NaN</td>\n",
       "      <td>NaN</td>\n",
       "      <td>0.717942</td>\n",
       "    </tr>\n",
       "    <tr>\n",
       "      <th>2021-06-18</th>\n",
       "      <td>NaN</td>\n",
       "      <td>NaN</td>\n",
       "      <td>NaN</td>\n",
       "      <td>NaN</td>\n",
       "      <td>NaN</td>\n",
       "      <td>NaN</td>\n",
       "      <td>NaN</td>\n",
       "      <td>NaN</td>\n",
       "      <td>NaN</td>\n",
       "      <td>NaN</td>\n",
       "      <td>NaN</td>\n",
       "      <td>0.721098</td>\n",
       "    </tr>\n",
       "  </tbody>\n",
       "</table>\n",
       "<p>31292 rows × 12 columns</p>\n",
       "</div>"
      ],
      "text/plain": [
       "            DGS1  DGS5  DGS10  DGS20  VIXCLS  UMCSENT  STLFSI2  UNRATE  ICSA  \\\n",
       "1947-01-01   NaN   NaN    NaN    NaN     NaN      NaN      NaN     NaN   NaN   \n",
       "1947-02-01   NaN   NaN    NaN    NaN     NaN      NaN      NaN     NaN   NaN   \n",
       "1947-03-01   NaN   NaN    NaN    NaN     NaN      NaN      NaN     NaN   NaN   \n",
       "1947-04-01   NaN   NaN    NaN    NaN     NaN      NaN      NaN     NaN   NaN   \n",
       "1947-05-01   NaN   NaN    NaN    NaN     NaN      NaN      NaN     NaN   NaN   \n",
       "...          ...   ...    ...    ...     ...      ...      ...     ...   ...   \n",
       "2021-06-14   NaN   NaN    NaN    NaN     NaN      NaN      NaN     NaN   NaN   \n",
       "2021-06-15   NaN   NaN    NaN    NaN     NaN      NaN      NaN     NaN   NaN   \n",
       "2021-06-16   NaN   NaN    NaN    NaN     NaN      NaN      NaN     NaN   NaN   \n",
       "2021-06-17   NaN   NaN    NaN    NaN     NaN      NaN      NaN     NaN   NaN   \n",
       "2021-06-18   NaN   NaN    NaN    NaN     NaN      NaN      NaN     NaN   NaN   \n",
       "\n",
       "            CPIAUCSL  MICH  DTWEXAFEGS  \n",
       "1947-01-01     21.48   NaN         NaN  \n",
       "1947-02-01     21.62   NaN         NaN  \n",
       "1947-03-01     22.00   NaN         NaN  \n",
       "1947-04-01     22.00   NaN         NaN  \n",
       "1947-05-01     21.95   NaN         NaN  \n",
       "...              ...   ...         ...  \n",
       "2021-06-14       NaN   NaN    0.706585  \n",
       "2021-06-15       NaN   NaN    0.708276  \n",
       "2021-06-16       NaN   NaN    0.707259  \n",
       "2021-06-17       NaN   NaN    0.717942  \n",
       "2021-06-18       NaN   NaN    0.721098  \n",
       "\n",
       "[31292 rows x 12 columns]"
      ]
     },
     "execution_count": 63,
     "metadata": {},
     "output_type": "execute_result"
    }
   ],
   "source": [
    "df"
   ]
  },
  {
   "cell_type": "code",
   "execution_count": 64,
   "id": "2f30d9ae",
   "metadata": {},
   "outputs": [
    {
     "data": {
      "text/html": [
       "<div>\n",
       "<style scoped>\n",
       "    .dataframe tbody tr th:only-of-type {\n",
       "        vertical-align: middle;\n",
       "    }\n",
       "\n",
       "    .dataframe tbody tr th {\n",
       "        vertical-align: top;\n",
       "    }\n",
       "\n",
       "    .dataframe thead th {\n",
       "        text-align: right;\n",
       "    }\n",
       "</style>\n",
       "<table border=\"1\" class=\"dataframe\">\n",
       "  <thead>\n",
       "    <tr style=\"text-align: right;\">\n",
       "      <th></th>\n",
       "      <th>DGS1</th>\n",
       "      <th>DGS5</th>\n",
       "      <th>DGS10</th>\n",
       "      <th>DGS20</th>\n",
       "      <th>VIXCLS</th>\n",
       "      <th>UMCSENT</th>\n",
       "      <th>STLFSI2</th>\n",
       "      <th>UNRATE</th>\n",
       "      <th>ICSA</th>\n",
       "      <th>CPIAUCSL</th>\n",
       "      <th>MICH</th>\n",
       "      <th>DTWEXAFEGS</th>\n",
       "    </tr>\n",
       "  </thead>\n",
       "  <tbody>\n",
       "    <tr>\n",
       "      <th>1947-01-31</th>\n",
       "      <td>NaN</td>\n",
       "      <td>NaN</td>\n",
       "      <td>NaN</td>\n",
       "      <td>NaN</td>\n",
       "      <td>NaN</td>\n",
       "      <td>NaN</td>\n",
       "      <td>NaN</td>\n",
       "      <td>NaN</td>\n",
       "      <td>NaN</td>\n",
       "      <td>NaN</td>\n",
       "      <td>NaN</td>\n",
       "      <td>NaN</td>\n",
       "    </tr>\n",
       "    <tr>\n",
       "      <th>1947-02-28</th>\n",
       "      <td>NaN</td>\n",
       "      <td>NaN</td>\n",
       "      <td>NaN</td>\n",
       "      <td>NaN</td>\n",
       "      <td>NaN</td>\n",
       "      <td>NaN</td>\n",
       "      <td>NaN</td>\n",
       "      <td>NaN</td>\n",
       "      <td>NaN</td>\n",
       "      <td>0.006518</td>\n",
       "      <td>NaN</td>\n",
       "      <td>NaN</td>\n",
       "    </tr>\n",
       "    <tr>\n",
       "      <th>1947-03-31</th>\n",
       "      <td>NaN</td>\n",
       "      <td>NaN</td>\n",
       "      <td>NaN</td>\n",
       "      <td>NaN</td>\n",
       "      <td>NaN</td>\n",
       "      <td>NaN</td>\n",
       "      <td>NaN</td>\n",
       "      <td>NaN</td>\n",
       "      <td>NaN</td>\n",
       "      <td>0.017576</td>\n",
       "      <td>NaN</td>\n",
       "      <td>NaN</td>\n",
       "    </tr>\n",
       "    <tr>\n",
       "      <th>1947-04-30</th>\n",
       "      <td>NaN</td>\n",
       "      <td>NaN</td>\n",
       "      <td>NaN</td>\n",
       "      <td>NaN</td>\n",
       "      <td>NaN</td>\n",
       "      <td>NaN</td>\n",
       "      <td>NaN</td>\n",
       "      <td>NaN</td>\n",
       "      <td>NaN</td>\n",
       "      <td>0.000000</td>\n",
       "      <td>NaN</td>\n",
       "      <td>NaN</td>\n",
       "    </tr>\n",
       "    <tr>\n",
       "      <th>1947-05-31</th>\n",
       "      <td>NaN</td>\n",
       "      <td>NaN</td>\n",
       "      <td>NaN</td>\n",
       "      <td>NaN</td>\n",
       "      <td>NaN</td>\n",
       "      <td>NaN</td>\n",
       "      <td>NaN</td>\n",
       "      <td>NaN</td>\n",
       "      <td>NaN</td>\n",
       "      <td>-0.002273</td>\n",
       "      <td>NaN</td>\n",
       "      <td>NaN</td>\n",
       "    </tr>\n",
       "    <tr>\n",
       "      <th>...</th>\n",
       "      <td>...</td>\n",
       "      <td>...</td>\n",
       "      <td>...</td>\n",
       "      <td>...</td>\n",
       "      <td>...</td>\n",
       "      <td>...</td>\n",
       "      <td>...</td>\n",
       "      <td>...</td>\n",
       "      <td>...</td>\n",
       "      <td>...</td>\n",
       "      <td>...</td>\n",
       "      <td>...</td>\n",
       "    </tr>\n",
       "    <tr>\n",
       "      <th>2021-02-28</th>\n",
       "      <td>-0.200000</td>\n",
       "      <td>0.666667</td>\n",
       "      <td>0.297297</td>\n",
       "      <td>0.238095</td>\n",
       "      <td>-0.155334</td>\n",
       "      <td>-0.027848</td>\n",
       "      <td>0.330810</td>\n",
       "      <td>-0.015873</td>\n",
       "      <td>-0.241753</td>\n",
       "      <td>0.003546</td>\n",
       "      <td>0.100000</td>\n",
       "      <td>0.000086</td>\n",
       "    </tr>\n",
       "    <tr>\n",
       "      <th>2021-03-31</th>\n",
       "      <td>-0.125000</td>\n",
       "      <td>0.226667</td>\n",
       "      <td>0.208333</td>\n",
       "      <td>0.110577</td>\n",
       "      <td>-0.305903</td>\n",
       "      <td>0.105469</td>\n",
       "      <td>0.201345</td>\n",
       "      <td>-0.032258</td>\n",
       "      <td>-0.103170</td>\n",
       "      <td>0.006202</td>\n",
       "      <td>-0.060606</td>\n",
       "      <td>0.017900</td>\n",
       "    </tr>\n",
       "    <tr>\n",
       "      <th>2021-04-30</th>\n",
       "      <td>-0.285714</td>\n",
       "      <td>-0.065217</td>\n",
       "      <td>-0.051724</td>\n",
       "      <td>-0.051948</td>\n",
       "      <td>-0.040722</td>\n",
       "      <td>0.040047</td>\n",
       "      <td>0.321136</td>\n",
       "      <td>0.016667</td>\n",
       "      <td>-0.139293</td>\n",
       "      <td>0.007700</td>\n",
       "      <td>0.096774</td>\n",
       "      <td>-0.019834</td>\n",
       "    </tr>\n",
       "    <tr>\n",
       "      <th>2021-05-31</th>\n",
       "      <td>0.000000</td>\n",
       "      <td>-0.081395</td>\n",
       "      <td>-0.042424</td>\n",
       "      <td>-0.004566</td>\n",
       "      <td>-0.099409</td>\n",
       "      <td>0.000000</td>\n",
       "      <td>0.051808</td>\n",
       "      <td>-0.049180</td>\n",
       "      <td>-0.105475</td>\n",
       "      <td>0.006442</td>\n",
       "      <td>0.000000</td>\n",
       "      <td>-0.012928</td>\n",
       "    </tr>\n",
       "    <tr>\n",
       "      <th>2021-06-30</th>\n",
       "      <td>0.800000</td>\n",
       "      <td>0.101266</td>\n",
       "      <td>-0.063291</td>\n",
       "      <td>-0.068807</td>\n",
       "      <td>-0.005967</td>\n",
       "      <td>0.000000</td>\n",
       "      <td>0.010946</td>\n",
       "      <td>0.000000</td>\n",
       "      <td>-0.645815</td>\n",
       "      <td>0.000000</td>\n",
       "      <td>0.000000</td>\n",
       "      <td>0.028236</td>\n",
       "    </tr>\n",
       "  </tbody>\n",
       "</table>\n",
       "<p>894 rows × 12 columns</p>\n",
       "</div>"
      ],
      "text/plain": [
       "                DGS1      DGS5     DGS10     DGS20    VIXCLS   UMCSENT  \\\n",
       "1947-01-31       NaN       NaN       NaN       NaN       NaN       NaN   \n",
       "1947-02-28       NaN       NaN       NaN       NaN       NaN       NaN   \n",
       "1947-03-31       NaN       NaN       NaN       NaN       NaN       NaN   \n",
       "1947-04-30       NaN       NaN       NaN       NaN       NaN       NaN   \n",
       "1947-05-31       NaN       NaN       NaN       NaN       NaN       NaN   \n",
       "...              ...       ...       ...       ...       ...       ...   \n",
       "2021-02-28 -0.200000  0.666667  0.297297  0.238095 -0.155334 -0.027848   \n",
       "2021-03-31 -0.125000  0.226667  0.208333  0.110577 -0.305903  0.105469   \n",
       "2021-04-30 -0.285714 -0.065217 -0.051724 -0.051948 -0.040722  0.040047   \n",
       "2021-05-31  0.000000 -0.081395 -0.042424 -0.004566 -0.099409  0.000000   \n",
       "2021-06-30  0.800000  0.101266 -0.063291 -0.068807 -0.005967  0.000000   \n",
       "\n",
       "             STLFSI2    UNRATE      ICSA  CPIAUCSL      MICH  DTWEXAFEGS  \n",
       "1947-01-31       NaN       NaN       NaN       NaN       NaN         NaN  \n",
       "1947-02-28       NaN       NaN       NaN  0.006518       NaN         NaN  \n",
       "1947-03-31       NaN       NaN       NaN  0.017576       NaN         NaN  \n",
       "1947-04-30       NaN       NaN       NaN  0.000000       NaN         NaN  \n",
       "1947-05-31       NaN       NaN       NaN -0.002273       NaN         NaN  \n",
       "...              ...       ...       ...       ...       ...         ...  \n",
       "2021-02-28  0.330810 -0.015873 -0.241753  0.003546  0.100000    0.000086  \n",
       "2021-03-31  0.201345 -0.032258 -0.103170  0.006202 -0.060606    0.017900  \n",
       "2021-04-30  0.321136  0.016667 -0.139293  0.007700  0.096774   -0.019834  \n",
       "2021-05-31  0.051808 -0.049180 -0.105475  0.006442  0.000000   -0.012928  \n",
       "2021-06-30  0.010946  0.000000 -0.645815  0.000000  0.000000    0.028236  \n",
       "\n",
       "[894 rows x 12 columns]"
      ]
     },
     "execution_count": 64,
     "metadata": {},
     "output_type": "execute_result"
    }
   ],
   "source": [
    "m_df.pct_change()"
   ]
  }
 ],
 "metadata": {
  "kernelspec": {
   "display_name": "Python 3",
   "language": "python",
   "name": "python3"
  },
  "language_info": {
   "codemirror_mode": {
    "name": "ipython",
    "version": 3
   },
   "file_extension": ".py",
   "mimetype": "text/x-python",
   "name": "python",
   "nbconvert_exporter": "python",
   "pygments_lexer": "ipython3",
   "version": "3.8.8"
  }
 },
 "nbformat": 4,
 "nbformat_minor": 5
}
